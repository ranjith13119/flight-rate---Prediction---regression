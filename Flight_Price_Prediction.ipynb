{
  "nbformat": 4,
  "nbformat_minor": 0,
  "metadata": {
    "colab": {
      "name": "Flight-Price-Prediction.ipynb",
      "provenance": [],
      "collapsed_sections": [
        "U4x0Kt_EWDJz"
      ],
      "mount_file_id": "1EX-9eKx4Fi5FVctxrdGjJSWG7KTVCKEa",
      "authorship_tag": "ABX9TyOTruNv1RuUol6XMbTdxGEW",
      "include_colab_link": true
    },
    "kernelspec": {
      "name": "python3",
      "display_name": "Python 3"
    },
    "language_info": {
      "name": "python"
    },
    "accelerator": "TPU"
  },
  "cells": [
    {
      "cell_type": "markdown",
      "metadata": {
        "id": "view-in-github",
        "colab_type": "text"
      },
      "source": [
        "<a href=\"https://colab.research.google.com/github/ranjith13119/flight-rate---Prediction---regression/blob/main/Flight_Price_Prediction.ipynb\" target=\"_parent\"><img src=\"https://colab.research.google.com/assets/colab-badge.svg\" alt=\"Open In Colab\"/></a>"
      ]
    },
    {
      "cell_type": "code",
      "metadata": {
        "id": "DpAiN6bZnLbj"
      },
      "source": [
        "# import os\n",
        "# os.environ['KAGGLE_CONFIG_DIR'] = \"/content/drive/MyDrive/Kaggle\"\n",
        "# %cd /content/drive/MyDrive/Flight-Price-Prediction\n",
        "# !kaggle datasets download -d nikhilmittal/flight-fare-prediction-mh\n",
        "# #unzipping the zip files and deleting the zip files\n",
        "# !unzip \\*.zip  && rm *.zipy"
      ],
      "execution_count": 59,
      "outputs": []
    },
    {
      "cell_type": "code",
      "metadata": {
        "id": "AryC9JWHs6WT"
      },
      "source": [
        ""
      ],
      "execution_count": 59,
      "outputs": []
    },
    {
      "cell_type": "code",
      "metadata": {
        "id": "6_99VeDymSKe"
      },
      "source": [
        "import pandas as pd \n",
        "import numpy as np\n",
        "import matplotlib.pyplot as plt\n",
        "import seaborn as sns\n",
        "from tensorflow.keras import layers\n",
        "import scipy.stats as stat\n",
        "import pylab"
      ],
      "execution_count": 60,
      "outputs": []
    },
    {
      "cell_type": "code",
      "metadata": {
        "id": "cQ_CNgcxnm06"
      },
      "source": [
        "train_dataset = pd.read_excel(\"/content/drive/MyDrive/Flight-Price-Prediction/Data_Train.xlsx\")\n",
        "test_dataset = pd.read_excel(\"/content/drive/MyDrive/Flight-Price-Prediction/Test_set.xlsx\")"
      ],
      "execution_count": 61,
      "outputs": []
    },
    {
      "cell_type": "code",
      "metadata": {
        "colab": {
          "base_uri": "https://localhost:8080/",
          "height": 111
        },
        "id": "6rDrhcn-n8ns",
        "outputId": "3037ab08-ef47-4a5f-9458-53e7fb46935f"
      },
      "source": [
        "train_dataset.head(2)"
      ],
      "execution_count": 62,
      "outputs": [
        {
          "output_type": "execute_result",
          "data": {
            "text/html": [
              "<div>\n",
              "<style scoped>\n",
              "    .dataframe tbody tr th:only-of-type {\n",
              "        vertical-align: middle;\n",
              "    }\n",
              "\n",
              "    .dataframe tbody tr th {\n",
              "        vertical-align: top;\n",
              "    }\n",
              "\n",
              "    .dataframe thead th {\n",
              "        text-align: right;\n",
              "    }\n",
              "</style>\n",
              "<table border=\"1\" class=\"dataframe\">\n",
              "  <thead>\n",
              "    <tr style=\"text-align: right;\">\n",
              "      <th></th>\n",
              "      <th>Airline</th>\n",
              "      <th>Date_of_Journey</th>\n",
              "      <th>Source</th>\n",
              "      <th>Destination</th>\n",
              "      <th>Route</th>\n",
              "      <th>Dep_Time</th>\n",
              "      <th>Arrival_Time</th>\n",
              "      <th>Duration</th>\n",
              "      <th>Total_Stops</th>\n",
              "      <th>Additional_Info</th>\n",
              "      <th>Price</th>\n",
              "    </tr>\n",
              "  </thead>\n",
              "  <tbody>\n",
              "    <tr>\n",
              "      <th>0</th>\n",
              "      <td>IndiGo</td>\n",
              "      <td>24/03/2019</td>\n",
              "      <td>Banglore</td>\n",
              "      <td>New Delhi</td>\n",
              "      <td>BLR → DEL</td>\n",
              "      <td>22:20</td>\n",
              "      <td>01:10 22 Mar</td>\n",
              "      <td>2h 50m</td>\n",
              "      <td>non-stop</td>\n",
              "      <td>No info</td>\n",
              "      <td>3897</td>\n",
              "    </tr>\n",
              "    <tr>\n",
              "      <th>1</th>\n",
              "      <td>Air India</td>\n",
              "      <td>1/05/2019</td>\n",
              "      <td>Kolkata</td>\n",
              "      <td>Banglore</td>\n",
              "      <td>CCU → IXR → BBI → BLR</td>\n",
              "      <td>05:50</td>\n",
              "      <td>13:15</td>\n",
              "      <td>7h 25m</td>\n",
              "      <td>2 stops</td>\n",
              "      <td>No info</td>\n",
              "      <td>7662</td>\n",
              "    </tr>\n",
              "  </tbody>\n",
              "</table>\n",
              "</div>"
            ],
            "text/plain": [
              "     Airline Date_of_Journey    Source  ... Total_Stops Additional_Info Price\n",
              "0     IndiGo      24/03/2019  Banglore  ...    non-stop         No info  3897\n",
              "1  Air India       1/05/2019   Kolkata  ...     2 stops         No info  7662\n",
              "\n",
              "[2 rows x 11 columns]"
            ]
          },
          "metadata": {
            "tags": []
          },
          "execution_count": 62
        }
      ]
    },
    {
      "cell_type": "code",
      "metadata": {
        "colab": {
          "base_uri": "https://localhost:8080/"
        },
        "id": "z_UUDq0LoXwL",
        "outputId": "355fe68c-752a-4750-872b-db0ef329a5f3"
      },
      "source": [
        "train_dataset.shape"
      ],
      "execution_count": 63,
      "outputs": [
        {
          "output_type": "execute_result",
          "data": {
            "text/plain": [
              "(10683, 11)"
            ]
          },
          "metadata": {
            "tags": []
          },
          "execution_count": 63
        }
      ]
    },
    {
      "cell_type": "code",
      "metadata": {
        "colab": {
          "base_uri": "https://localhost:8080/",
          "height": 297
        },
        "id": "U6ElJSj2oaLr",
        "outputId": "3691e062-0e77-4249-811b-7f4b9d7181ef"
      },
      "source": [
        "train_dataset.describe()"
      ],
      "execution_count": 64,
      "outputs": [
        {
          "output_type": "execute_result",
          "data": {
            "text/html": [
              "<div>\n",
              "<style scoped>\n",
              "    .dataframe tbody tr th:only-of-type {\n",
              "        vertical-align: middle;\n",
              "    }\n",
              "\n",
              "    .dataframe tbody tr th {\n",
              "        vertical-align: top;\n",
              "    }\n",
              "\n",
              "    .dataframe thead th {\n",
              "        text-align: right;\n",
              "    }\n",
              "</style>\n",
              "<table border=\"1\" class=\"dataframe\">\n",
              "  <thead>\n",
              "    <tr style=\"text-align: right;\">\n",
              "      <th></th>\n",
              "      <th>Price</th>\n",
              "    </tr>\n",
              "  </thead>\n",
              "  <tbody>\n",
              "    <tr>\n",
              "      <th>count</th>\n",
              "      <td>10683.000000</td>\n",
              "    </tr>\n",
              "    <tr>\n",
              "      <th>mean</th>\n",
              "      <td>9087.064121</td>\n",
              "    </tr>\n",
              "    <tr>\n",
              "      <th>std</th>\n",
              "      <td>4611.359167</td>\n",
              "    </tr>\n",
              "    <tr>\n",
              "      <th>min</th>\n",
              "      <td>1759.000000</td>\n",
              "    </tr>\n",
              "    <tr>\n",
              "      <th>25%</th>\n",
              "      <td>5277.000000</td>\n",
              "    </tr>\n",
              "    <tr>\n",
              "      <th>50%</th>\n",
              "      <td>8372.000000</td>\n",
              "    </tr>\n",
              "    <tr>\n",
              "      <th>75%</th>\n",
              "      <td>12373.000000</td>\n",
              "    </tr>\n",
              "    <tr>\n",
              "      <th>max</th>\n",
              "      <td>79512.000000</td>\n",
              "    </tr>\n",
              "  </tbody>\n",
              "</table>\n",
              "</div>"
            ],
            "text/plain": [
              "              Price\n",
              "count  10683.000000\n",
              "mean    9087.064121\n",
              "std     4611.359167\n",
              "min     1759.000000\n",
              "25%     5277.000000\n",
              "50%     8372.000000\n",
              "75%    12373.000000\n",
              "max    79512.000000"
            ]
          },
          "metadata": {
            "tags": []
          },
          "execution_count": 64
        }
      ]
    },
    {
      "cell_type": "code",
      "metadata": {
        "colab": {
          "base_uri": "https://localhost:8080/"
        },
        "id": "BsjXTWB_oosz",
        "outputId": "35f82b78-c4a2-4581-e2ce-574173872d83"
      },
      "source": [
        "train_dataset.info()"
      ],
      "execution_count": 65,
      "outputs": [
        {
          "output_type": "stream",
          "text": [
            "<class 'pandas.core.frame.DataFrame'>\n",
            "RangeIndex: 10683 entries, 0 to 10682\n",
            "Data columns (total 11 columns):\n",
            " #   Column           Non-Null Count  Dtype \n",
            "---  ------           --------------  ----- \n",
            " 0   Airline          10683 non-null  object\n",
            " 1   Date_of_Journey  10683 non-null  object\n",
            " 2   Source           10683 non-null  object\n",
            " 3   Destination      10683 non-null  object\n",
            " 4   Route            10682 non-null  object\n",
            " 5   Dep_Time         10683 non-null  object\n",
            " 6   Arrival_Time     10683 non-null  object\n",
            " 7   Duration         10683 non-null  object\n",
            " 8   Total_Stops      10682 non-null  object\n",
            " 9   Additional_Info  10683 non-null  object\n",
            " 10  Price            10683 non-null  int64 \n",
            "dtypes: int64(1), object(10)\n",
            "memory usage: 918.2+ KB\n"
          ],
          "name": "stdout"
        }
      ]
    },
    {
      "cell_type": "code",
      "metadata": {
        "colab": {
          "base_uri": "https://localhost:8080/"
        },
        "id": "Oj0sfQDwot0S",
        "outputId": "0d25f0d3-557c-4797-a04f-6e64b9092688"
      },
      "source": [
        "train_dataset.isnull().sum()"
      ],
      "execution_count": 66,
      "outputs": [
        {
          "output_type": "execute_result",
          "data": {
            "text/plain": [
              "Airline            0\n",
              "Date_of_Journey    0\n",
              "Source             0\n",
              "Destination        0\n",
              "Route              1\n",
              "Dep_Time           0\n",
              "Arrival_Time       0\n",
              "Duration           0\n",
              "Total_Stops        1\n",
              "Additional_Info    0\n",
              "Price              0\n",
              "dtype: int64"
            ]
          },
          "metadata": {
            "tags": []
          },
          "execution_count": 66
        }
      ]
    },
    {
      "cell_type": "code",
      "metadata": {
        "colab": {
          "base_uri": "https://localhost:8080/"
        },
        "id": "1TGuv59boxFx",
        "outputId": "2424d6fc-90ba-43d5-82c0-81ae19a381f0"
      },
      "source": [
        "test_dataset.shape"
      ],
      "execution_count": 67,
      "outputs": [
        {
          "output_type": "execute_result",
          "data": {
            "text/plain": [
              "(2671, 10)"
            ]
          },
          "metadata": {
            "tags": []
          },
          "execution_count": 67
        }
      ]
    },
    {
      "cell_type": "code",
      "metadata": {
        "colab": {
          "base_uri": "https://localhost:8080/"
        },
        "id": "g2Spi6Lgo1o6",
        "outputId": "348393b9-4997-482b-fe43-b1f7fa737915"
      },
      "source": [
        "test_dataset.info()"
      ],
      "execution_count": 68,
      "outputs": [
        {
          "output_type": "stream",
          "text": [
            "<class 'pandas.core.frame.DataFrame'>\n",
            "RangeIndex: 2671 entries, 0 to 2670\n",
            "Data columns (total 10 columns):\n",
            " #   Column           Non-Null Count  Dtype \n",
            "---  ------           --------------  ----- \n",
            " 0   Airline          2671 non-null   object\n",
            " 1   Date_of_Journey  2671 non-null   object\n",
            " 2   Source           2671 non-null   object\n",
            " 3   Destination      2671 non-null   object\n",
            " 4   Route            2671 non-null   object\n",
            " 5   Dep_Time         2671 non-null   object\n",
            " 6   Arrival_Time     2671 non-null   object\n",
            " 7   Duration         2671 non-null   object\n",
            " 8   Total_Stops      2671 non-null   object\n",
            " 9   Additional_Info  2671 non-null   object\n",
            "dtypes: object(10)\n",
            "memory usage: 208.8+ KB\n"
          ],
          "name": "stdout"
        }
      ]
    },
    {
      "cell_type": "code",
      "metadata": {
        "colab": {
          "base_uri": "https://localhost:8080/"
        },
        "id": "MC3lrk6Uo43y",
        "outputId": "8b2843ab-45b3-4ed7-cb9c-3165243cd92e"
      },
      "source": [
        "test_dataset.isnull().sum()"
      ],
      "execution_count": 69,
      "outputs": [
        {
          "output_type": "execute_result",
          "data": {
            "text/plain": [
              "Airline            0\n",
              "Date_of_Journey    0\n",
              "Source             0\n",
              "Destination        0\n",
              "Route              0\n",
              "Dep_Time           0\n",
              "Arrival_Time       0\n",
              "Duration           0\n",
              "Total_Stops        0\n",
              "Additional_Info    0\n",
              "dtype: int64"
            ]
          },
          "metadata": {
            "tags": []
          },
          "execution_count": 69
        }
      ]
    },
    {
      "cell_type": "markdown",
      "metadata": {
        "id": "xmbtt09Uo_cU"
      },
      "source": [
        "# **Data Preprocessing**"
      ]
    },
    {
      "cell_type": "code",
      "metadata": {
        "id": "gRp4NRYHo-Ya"
      },
      "source": [
        "dataset = train_dataset.append(test_dataset,sort=False)"
      ],
      "execution_count": 70,
      "outputs": []
    },
    {
      "cell_type": "code",
      "metadata": {
        "colab": {
          "base_uri": "https://localhost:8080/"
        },
        "id": "zzq3PiL_p6Xr",
        "outputId": "7c1ae71d-0ffa-47af-aa28-e574fbe53917"
      },
      "source": [
        "dataset.shape"
      ],
      "execution_count": 71,
      "outputs": [
        {
          "output_type": "execute_result",
          "data": {
            "text/plain": [
              "(13354, 11)"
            ]
          },
          "metadata": {
            "tags": []
          },
          "execution_count": 71
        }
      ]
    },
    {
      "cell_type": "code",
      "metadata": {
        "colab": {
          "base_uri": "https://localhost:8080/"
        },
        "id": "TXx58SvIqA3j",
        "outputId": "745dd589-3e41-426c-883c-fa9643343333"
      },
      "source": [
        "dataset.isnull().sum()"
      ],
      "execution_count": 72,
      "outputs": [
        {
          "output_type": "execute_result",
          "data": {
            "text/plain": [
              "Airline               0\n",
              "Date_of_Journey       0\n",
              "Source                0\n",
              "Destination           0\n",
              "Route                 1\n",
              "Dep_Time              0\n",
              "Arrival_Time          0\n",
              "Duration              0\n",
              "Total_Stops           1\n",
              "Additional_Info       0\n",
              "Price              2671\n",
              "dtype: int64"
            ]
          },
          "metadata": {
            "tags": []
          },
          "execution_count": 72
        }
      ]
    },
    {
      "cell_type": "code",
      "metadata": {
        "colab": {
          "base_uri": "https://localhost:8080/"
        },
        "id": "QJdVdRWbri6j",
        "outputId": "333e1099-4904-4ef5-9c17-994a6478579e"
      },
      "source": [
        "dataset.isnull().sum()"
      ],
      "execution_count": 73,
      "outputs": [
        {
          "output_type": "execute_result",
          "data": {
            "text/plain": [
              "Airline               0\n",
              "Date_of_Journey       0\n",
              "Source                0\n",
              "Destination           0\n",
              "Route                 1\n",
              "Dep_Time              0\n",
              "Arrival_Time          0\n",
              "Duration              0\n",
              "Total_Stops           1\n",
              "Additional_Info       0\n",
              "Price              2671\n",
              "dtype: int64"
            ]
          },
          "metadata": {
            "tags": []
          },
          "execution_count": 73
        }
      ]
    },
    {
      "cell_type": "code",
      "metadata": {
        "colab": {
          "base_uri": "https://localhost:8080/",
          "height": 80
        },
        "id": "J6u8YF8gtfjT",
        "outputId": "28fd3615-fcaa-4b96-c47f-c2676e7f1be3"
      },
      "source": [
        "dataset[dataset['Total_Stops'].isnull()]"
      ],
      "execution_count": 74,
      "outputs": [
        {
          "output_type": "execute_result",
          "data": {
            "text/html": [
              "<div>\n",
              "<style scoped>\n",
              "    .dataframe tbody tr th:only-of-type {\n",
              "        vertical-align: middle;\n",
              "    }\n",
              "\n",
              "    .dataframe tbody tr th {\n",
              "        vertical-align: top;\n",
              "    }\n",
              "\n",
              "    .dataframe thead th {\n",
              "        text-align: right;\n",
              "    }\n",
              "</style>\n",
              "<table border=\"1\" class=\"dataframe\">\n",
              "  <thead>\n",
              "    <tr style=\"text-align: right;\">\n",
              "      <th></th>\n",
              "      <th>Airline</th>\n",
              "      <th>Date_of_Journey</th>\n",
              "      <th>Source</th>\n",
              "      <th>Destination</th>\n",
              "      <th>Route</th>\n",
              "      <th>Dep_Time</th>\n",
              "      <th>Arrival_Time</th>\n",
              "      <th>Duration</th>\n",
              "      <th>Total_Stops</th>\n",
              "      <th>Additional_Info</th>\n",
              "      <th>Price</th>\n",
              "    </tr>\n",
              "  </thead>\n",
              "  <tbody>\n",
              "    <tr>\n",
              "      <th>9039</th>\n",
              "      <td>Air India</td>\n",
              "      <td>6/05/2019</td>\n",
              "      <td>Delhi</td>\n",
              "      <td>Cochin</td>\n",
              "      <td>NaN</td>\n",
              "      <td>09:45</td>\n",
              "      <td>09:25 07 May</td>\n",
              "      <td>23h 40m</td>\n",
              "      <td>NaN</td>\n",
              "      <td>No info</td>\n",
              "      <td>7480.0</td>\n",
              "    </tr>\n",
              "  </tbody>\n",
              "</table>\n",
              "</div>"
            ],
            "text/plain": [
              "        Airline Date_of_Journey Source  ... Total_Stops Additional_Info   Price\n",
              "9039  Air India       6/05/2019  Delhi  ...         NaN         No info  7480.0\n",
              "\n",
              "[1 rows x 11 columns]"
            ]
          },
          "metadata": {
            "tags": []
          },
          "execution_count": 74
        }
      ]
    },
    {
      "cell_type": "code",
      "metadata": {
        "id": "QPPY9H7Xt2VL"
      },
      "source": [
        "data =  dataset[dataset.Airline == \"Air India\"]"
      ],
      "execution_count": 75,
      "outputs": []
    },
    {
      "cell_type": "code",
      "metadata": {
        "colab": {
          "base_uri": "https://localhost:8080/"
        },
        "id": "bS3Y9y7z1lK6",
        "outputId": "c92baf97-49d1-45aa-adcf-f32f1edfb15b"
      },
      "source": [
        "data.columns"
      ],
      "execution_count": 76,
      "outputs": [
        {
          "output_type": "execute_result",
          "data": {
            "text/plain": [
              "Index(['Airline', 'Date_of_Journey', 'Source', 'Destination', 'Route',\n",
              "       'Dep_Time', 'Arrival_Time', 'Duration', 'Total_Stops',\n",
              "       'Additional_Info', 'Price'],\n",
              "      dtype='object')"
            ]
          },
          "metadata": {
            "tags": []
          },
          "execution_count": 76
        }
      ]
    },
    {
      "cell_type": "code",
      "metadata": {
        "colab": {
          "base_uri": "https://localhost:8080/"
        },
        "id": "d8qnIrly08FZ",
        "outputId": "cc6b6d6b-64c3-4200-9eb2-c460c7b6750e"
      },
      "source": [
        "data.Airline.value_counts()"
      ],
      "execution_count": 77,
      "outputs": [
        {
          "output_type": "execute_result",
          "data": {
            "text/plain": [
              "Air India    2192\n",
              "Name: Airline, dtype: int64"
            ]
          },
          "metadata": {
            "tags": []
          },
          "execution_count": 77
        }
      ]
    },
    {
      "cell_type": "code",
      "metadata": {
        "id": "9nPSS3pM15EK"
      },
      "source": [
        "filter1 = data.Source == \"Delhi\"\n",
        "filter2 = data.Destination == \"Cochin\"\n",
        "data1 = data[filter1 & filter2]"
      ],
      "execution_count": 78,
      "outputs": []
    },
    {
      "cell_type": "code",
      "metadata": {
        "colab": {
          "base_uri": "https://localhost:8080/"
        },
        "id": "QLwXZoQCzjOq",
        "outputId": "f6deb8cf-3a3d-47cb-c374-02ecda3cd1b8"
      },
      "source": [
        "import datetime \n",
        "day_name= ['Monday', 'Tuesday', 'Wednesday', 'Thursday', 'Friday', 'Saturday','Sunday']\n",
        "data1[\"day\"] = data1.Date_of_Journey.apply(lambda x : day_name[datetime.datetime.strptime(x, '%d/%m/%Y').weekday()])"
      ],
      "execution_count": 79,
      "outputs": [
        {
          "output_type": "stream",
          "text": [
            "/usr/local/lib/python3.7/dist-packages/ipykernel_launcher.py:3: SettingWithCopyWarning: \n",
            "A value is trying to be set on a copy of a slice from a DataFrame.\n",
            "Try using .loc[row_indexer,col_indexer] = value instead\n",
            "\n",
            "See the caveats in the documentation: https://pandas.pydata.org/pandas-docs/stable/user_guide/indexing.html#returning-a-view-versus-a-copy\n",
            "  This is separate from the ipykernel package so we can avoid doing imports until\n"
          ],
          "name": "stderr"
        }
      ]
    },
    {
      "cell_type": "code",
      "metadata": {
        "colab": {
          "base_uri": "https://localhost:8080/",
          "height": 80
        },
        "id": "-l2jaoaR2ghJ",
        "outputId": "e688e54a-4278-462b-81bb-7ab80384d742"
      },
      "source": [
        "data1[data1['Total_Stops'].isnull()]"
      ],
      "execution_count": 80,
      "outputs": [
        {
          "output_type": "execute_result",
          "data": {
            "text/html": [
              "<div>\n",
              "<style scoped>\n",
              "    .dataframe tbody tr th:only-of-type {\n",
              "        vertical-align: middle;\n",
              "    }\n",
              "\n",
              "    .dataframe tbody tr th {\n",
              "        vertical-align: top;\n",
              "    }\n",
              "\n",
              "    .dataframe thead th {\n",
              "        text-align: right;\n",
              "    }\n",
              "</style>\n",
              "<table border=\"1\" class=\"dataframe\">\n",
              "  <thead>\n",
              "    <tr style=\"text-align: right;\">\n",
              "      <th></th>\n",
              "      <th>Airline</th>\n",
              "      <th>Date_of_Journey</th>\n",
              "      <th>Source</th>\n",
              "      <th>Destination</th>\n",
              "      <th>Route</th>\n",
              "      <th>Dep_Time</th>\n",
              "      <th>Arrival_Time</th>\n",
              "      <th>Duration</th>\n",
              "      <th>Total_Stops</th>\n",
              "      <th>Additional_Info</th>\n",
              "      <th>Price</th>\n",
              "      <th>day</th>\n",
              "    </tr>\n",
              "  </thead>\n",
              "  <tbody>\n",
              "    <tr>\n",
              "      <th>9039</th>\n",
              "      <td>Air India</td>\n",
              "      <td>6/05/2019</td>\n",
              "      <td>Delhi</td>\n",
              "      <td>Cochin</td>\n",
              "      <td>NaN</td>\n",
              "      <td>09:45</td>\n",
              "      <td>09:25 07 May</td>\n",
              "      <td>23h 40m</td>\n",
              "      <td>NaN</td>\n",
              "      <td>No info</td>\n",
              "      <td>7480.0</td>\n",
              "      <td>Monday</td>\n",
              "    </tr>\n",
              "  </tbody>\n",
              "</table>\n",
              "</div>"
            ],
            "text/plain": [
              "        Airline Date_of_Journey Source  ... Additional_Info   Price     day\n",
              "9039  Air India       6/05/2019  Delhi  ...         No info  7480.0  Monday\n",
              "\n",
              "[1 rows x 12 columns]"
            ]
          },
          "metadata": {
            "tags": []
          },
          "execution_count": 80
        }
      ]
    },
    {
      "cell_type": "code",
      "metadata": {
        "id": "1wxJVmpL0QQM"
      },
      "source": [
        "data1 = data1[data1.day == \"Monday\"]"
      ],
      "execution_count": 81,
      "outputs": []
    },
    {
      "cell_type": "code",
      "metadata": {
        "id": "26NwYDco4BKh"
      },
      "source": [
        "data1  = data1[data1.Dep_Time.str.startswith(\"09:45\")]"
      ],
      "execution_count": 82,
      "outputs": []
    },
    {
      "cell_type": "code",
      "metadata": {
        "colab": {
          "base_uri": "https://localhost:8080/"
        },
        "id": "TjU3lSxJ4p5S",
        "outputId": "a860a84a-f1b1-423c-fbfe-a6e21aa5b428"
      },
      "source": [
        "data1[data1.Duration == \"23h 40m\"].Route.mode()"
      ],
      "execution_count": 83,
      "outputs": [
        {
          "output_type": "execute_result",
          "data": {
            "text/plain": [
              "0    DEL → MAA → COK\n",
              "dtype: object"
            ]
          },
          "metadata": {
            "tags": []
          },
          "execution_count": 83
        }
      ]
    },
    {
      "cell_type": "code",
      "metadata": {
        "colab": {
          "base_uri": "https://localhost:8080/"
        },
        "id": "VhzyyOqD4zuB",
        "outputId": "4319ab3b-39e0-41fa-f4b5-b892b4b9a7d9"
      },
      "source": [
        "data1[data1.Duration == \"23h 40m\"].Total_Stops.mode()"
      ],
      "execution_count": 84,
      "outputs": [
        {
          "output_type": "execute_result",
          "data": {
            "text/plain": [
              "0    1 stop\n",
              "dtype: object"
            ]
          },
          "metadata": {
            "tags": []
          },
          "execution_count": 84
        }
      ]
    },
    {
      "cell_type": "code",
      "metadata": {
        "id": "PNJRCN2MtFkq"
      },
      "source": [
        "dataset['Route'].fillna('DEL → MAA → COK', inplace=True)\n",
        "dataset['Total_Stops'].fillna('1 stop', inplace=True)"
      ],
      "execution_count": 85,
      "outputs": []
    },
    {
      "cell_type": "code",
      "metadata": {
        "colab": {
          "base_uri": "https://localhost:8080/"
        },
        "id": "sFCccsWL5Rmp",
        "outputId": "836f0d30-931f-4f96-db0c-fa0cbee02142"
      },
      "source": [
        "dataset.isnull().sum()"
      ],
      "execution_count": 86,
      "outputs": [
        {
          "output_type": "execute_result",
          "data": {
            "text/plain": [
              "Airline               0\n",
              "Date_of_Journey       0\n",
              "Source                0\n",
              "Destination           0\n",
              "Route                 0\n",
              "Dep_Time              0\n",
              "Arrival_Time          0\n",
              "Duration              0\n",
              "Total_Stops           0\n",
              "Additional_Info       0\n",
              "Price              2671\n",
              "dtype: int64"
            ]
          },
          "metadata": {
            "tags": []
          },
          "execution_count": 86
        }
      ]
    },
    {
      "cell_type": "code",
      "metadata": {
        "id": "BbJI6-R45WVp"
      },
      "source": [
        "dataset['Date']=dataset['Date_of_Journey'].str.split('/').str[0]\n",
        "dataset['Month']=dataset['Date_of_Journey'].str.split('/').str[1]\n",
        "dataset['Year']=dataset['Date_of_Journey'].str.split('/').str[2]"
      ],
      "execution_count": 87,
      "outputs": []
    },
    {
      "cell_type": "code",
      "metadata": {
        "id": "jo6wJSYd8L67"
      },
      "source": [
        "def change_datatype(df, feature):\n",
        "  df[feature] = df[feature].astype(int)"
      ],
      "execution_count": 88,
      "outputs": []
    },
    {
      "cell_type": "code",
      "metadata": {
        "id": "laC-gYP58L90"
      },
      "source": [
        "for feat in ['Date', 'Month', 'Year']:\n",
        "  change_datatype(dataset, feat)"
      ],
      "execution_count": 89,
      "outputs": []
    },
    {
      "cell_type": "code",
      "metadata": {
        "colab": {
          "base_uri": "https://localhost:8080/"
        },
        "id": "9CRI996H8MBO",
        "outputId": "2d38fb09-d8f8-462b-bf14-cf2916573350"
      },
      "source": [
        "dataset['Date'].dtypes"
      ],
      "execution_count": 90,
      "outputs": [
        {
          "output_type": "execute_result",
          "data": {
            "text/plain": [
              "dtype('int64')"
            ]
          },
          "metadata": {
            "tags": []
          },
          "execution_count": 90
        }
      ]
    },
    {
      "cell_type": "code",
      "metadata": {
        "id": "_D4lpqmkEQav"
      },
      "source": [
        "import datetime \n",
        "day_name= ['Monday', 'Tuesday', 'Wednesday', 'Thursday', 'Friday', 'Saturday','Sunday']\n",
        "dataset[\"day\"] = dataset.Date_of_Journey.apply(lambda x : day_name[datetime.datetime.strptime(x, '%d/%m/%Y').weekday()])"
      ],
      "execution_count": 91,
      "outputs": []
    },
    {
      "cell_type": "code",
      "metadata": {
        "id": "5J9KbwWc7qoA"
      },
      "source": [
        "# dataset.drop(['Date_of_Journey'], axis = 1, inplace = True)"
      ],
      "execution_count": 92,
      "outputs": []
    },
    {
      "cell_type": "code",
      "metadata": {
        "colab": {
          "base_uri": "https://localhost:8080/"
        },
        "id": "X-XgpoNd9AjQ",
        "outputId": "8675a067-341b-4452-eacb-bee4cffc06ec"
      },
      "source": [
        "dataset.Airline.value_counts()"
      ],
      "execution_count": 93,
      "outputs": [
        {
          "output_type": "execute_result",
          "data": {
            "text/plain": [
              "Jet Airways                          4746\n",
              "IndiGo                               2564\n",
              "Air India                            2192\n",
              "Multiple carriers                    1543\n",
              "SpiceJet                             1026\n",
              "Vistara                               608\n",
              "Air Asia                              405\n",
              "GoAir                                 240\n",
              "Multiple carriers Premium economy      16\n",
              "Jet Airways Business                    8\n",
              "Vistara Premium economy                 5\n",
              "Trujet                                  1\n",
              "Name: Airline, dtype: int64"
            ]
          },
          "metadata": {
            "tags": []
          },
          "execution_count": 93
        }
      ]
    },
    {
      "cell_type": "code",
      "metadata": {
        "colab": {
          "base_uri": "https://localhost:8080/"
        },
        "id": "UMX1HhF6-vXr",
        "outputId": "06659855-c95d-4b59-b2e0-edcec94aaee2"
      },
      "source": [
        "dataset[\"Total_Stops\"].value_counts()"
      ],
      "execution_count": 94,
      "outputs": [
        {
          "output_type": "execute_result",
          "data": {
            "text/plain": [
              "1 stop      7057\n",
              "non-stop    4340\n",
              "2 stops     1899\n",
              "3 stops       56\n",
              "4 stops        2\n",
              "Name: Total_Stops, dtype: int64"
            ]
          },
          "metadata": {
            "tags": []
          },
          "execution_count": 94
        }
      ]
    },
    {
      "cell_type": "code",
      "metadata": {
        "id": "_9WibPBR-vaG"
      },
      "source": [
        "dataset[\"Total_Stops\"].replace(\"non-stop\", \"0 stop\", inplace = True)"
      ],
      "execution_count": 95,
      "outputs": []
    },
    {
      "cell_type": "code",
      "metadata": {
        "colab": {
          "base_uri": "https://localhost:8080/"
        },
        "id": "BDjZqZxu-FCv",
        "outputId": "8aeee182-c24d-41fc-a78b-759d296e3b9b"
      },
      "source": [
        "dataset[\"Total_Stops\"].value_counts()"
      ],
      "execution_count": 96,
      "outputs": [
        {
          "output_type": "execute_result",
          "data": {
            "text/plain": [
              "1 stop     7057\n",
              "0 stop     4340\n",
              "2 stops    1899\n",
              "3 stops      56\n",
              "4 stops       2\n",
              "Name: Total_Stops, dtype: int64"
            ]
          },
          "metadata": {
            "tags": []
          },
          "execution_count": 96
        }
      ]
    },
    {
      "cell_type": "code",
      "metadata": {
        "id": "rXpwvqEu-FE_"
      },
      "source": [
        "dataset[\"Stop\"] = dataset[\"Total_Stops\"].str.split(\" \").str[0]"
      ],
      "execution_count": 97,
      "outputs": []
    },
    {
      "cell_type": "code",
      "metadata": {
        "colab": {
          "base_uri": "https://localhost:8080/"
        },
        "id": "wY_ERBnn_SkJ",
        "outputId": "525bfaba-0a79-42c9-808b-13cdcfe3ff2c"
      },
      "source": [
        "dataset[\"Stop\"].value_counts()"
      ],
      "execution_count": 98,
      "outputs": [
        {
          "output_type": "execute_result",
          "data": {
            "text/plain": [
              "1    7057\n",
              "0    4340\n",
              "2    1899\n",
              "3      56\n",
              "4       2\n",
              "Name: Stop, dtype: int64"
            ]
          },
          "metadata": {
            "tags": []
          },
          "execution_count": 98
        }
      ]
    },
    {
      "cell_type": "code",
      "metadata": {
        "id": "NXdv12ZH_jCO"
      },
      "source": [
        "# dataset.drop(['Total_Stops'], axis = 1, inplace = True)"
      ],
      "execution_count": 99,
      "outputs": []
    },
    {
      "cell_type": "code",
      "metadata": {
        "colab": {
          "base_uri": "https://localhost:8080/"
        },
        "id": "u-5sQQVf9Anf",
        "outputId": "03535e75-7131-42c6-86e2-f3ebddfd2fd0"
      },
      "source": [
        "dataset.Additional_Info.value_counts()"
      ],
      "execution_count": 100,
      "outputs": [
        {
          "output_type": "execute_result",
          "data": {
            "text/plain": [
              "No info                         10493\n",
              "In-flight meal not included      2426\n",
              "No check-in baggage included      396\n",
              "1 Long layover                     20\n",
              "Change airports                     8\n",
              "Business class                      5\n",
              "No Info                             3\n",
              "2 Long layover                      1\n",
              "Red-eye flight                      1\n",
              "1 Short layover                     1\n",
              "Name: Additional_Info, dtype: int64"
            ]
          },
          "metadata": {
            "tags": []
          },
          "execution_count": 100
        }
      ]
    },
    {
      "cell_type": "code",
      "metadata": {
        "id": "Y4CUsdbu9AtC"
      },
      "source": [
        "dataset['Route_1']=dataset['Route'].str.split('→ ').str[0]\n",
        "dataset['Route_2']=dataset['Route'].str.split('→ ').str[1]\n",
        "dataset['Route_3']=dataset['Route'].str.split('→ ').str[2]\n",
        "dataset['Route_4']=dataset['Route'].str.split('→ ').str[3]\n",
        "dataset['Route_5']=dataset['Route'].str.split('→ ').str[4]"
      ],
      "execution_count": 101,
      "outputs": []
    },
    {
      "cell_type": "code",
      "metadata": {
        "id": "Ep78mXRt9Au2"
      },
      "source": [
        "#dataset.drop(['Route'], axis = 1, inplace = True)"
      ],
      "execution_count": 102,
      "outputs": []
    },
    {
      "cell_type": "code",
      "metadata": {
        "id": "9N9ggpVOAjUq"
      },
      "source": [
        "dataset['Arrival_Time']=dataset['Arrival_Time'].str.split(' ').str[0]\n",
        "dataset['Dep_Time']=dataset['Dep_Time'].str.split(' ').str[0]"
      ],
      "execution_count": 103,
      "outputs": []
    },
    {
      "cell_type": "code",
      "metadata": {
        "colab": {
          "base_uri": "https://localhost:8080/"
        },
        "id": "AVmczhfSAjcj",
        "outputId": "7012be5d-749b-4b05-ab59-a20c393b2cc3"
      },
      "source": [
        "dataset['Arrival_Time'].head(1)"
      ],
      "execution_count": 104,
      "outputs": [
        {
          "output_type": "execute_result",
          "data": {
            "text/plain": [
              "0    01:10\n",
              "Name: Arrival_Time, dtype: object"
            ]
          },
          "metadata": {
            "tags": []
          },
          "execution_count": 104
        }
      ]
    },
    {
      "cell_type": "code",
      "metadata": {
        "id": "qMgmWgapAvD2"
      },
      "source": [
        "dataset['Arrival_hour'] = dataset['Arrival_Time'].str.split(':').str[0]\n",
        "dataset['Arrival_min'] = dataset['Arrival_Time'].str.split(':').str[1]\n",
        "dataset['Dep_hour'] = dataset['Dep_Time'].str.split(':').str[0]\n",
        "dataset['Dep_min'] = dataset['Dep_Time'].str.split(':').str[1]\n",
        "# dataset['Duration_Hour'] = dataset['Duration'] .str.split(':').str[0]\n",
        "# dataset['Duration_Minute'] = dataset['Duration'] .str.split(':').str[1]\n",
        "dataset['Duration_mins']  =  dataset['Duration'].str.replace('h','*60').str.replace(' ','+').str.replace('m','*1').apply(eval)"
      ],
      "execution_count": 105,
      "outputs": []
    },
    {
      "cell_type": "code",
      "metadata": {
        "id": "bywxCB2UBQcB"
      },
      "source": [
        "for feat in ['Arrival_hour', 'Arrival_min','Stop', 'Dep_hour', 'Dep_min', \"Duration_mins\"]:\n",
        "  change_datatype(dataset, feat)"
      ],
      "execution_count": 106,
      "outputs": []
    },
    {
      "cell_type": "code",
      "metadata": {
        "colab": {
          "base_uri": "https://localhost:8080/"
        },
        "id": "gJyeBz6xBQeR",
        "outputId": "f3e6d0e8-a322-4a1a-8150-90f938212135"
      },
      "source": [
        "dataset['Duration_mins'].dtypes"
      ],
      "execution_count": 107,
      "outputs": [
        {
          "output_type": "execute_result",
          "data": {
            "text/plain": [
              "dtype('int64')"
            ]
          },
          "metadata": {
            "tags": []
          },
          "execution_count": 107
        }
      ]
    },
    {
      "cell_type": "code",
      "metadata": {
        "id": "A1l5-qW2GKp2"
      },
      "source": [
        "def pod(x):\n",
        "    if (x > 3) and (x <= 6):\n",
        "        return 'Early Morning'\n",
        "    elif (x > 6) and (x <= 12 ):\n",
        "        return 'Morning'\n",
        "    elif (x > 12) and (x <= 16):\n",
        "        return'Noon'\n",
        "    elif (x > 16) and (x <= 20) :\n",
        "        return 'Evening'\n",
        "    elif (x > 20) and (x <= 24):\n",
        "        return'Night'\n",
        "    elif (x <= 3):\n",
        "        return'Late Night'"
      ],
      "execution_count": 108,
      "outputs": []
    },
    {
      "cell_type": "code",
      "metadata": {
        "id": "FDDw4kmVGKsm"
      },
      "source": [
        "dataset['Dep_Part_of_day'] = dataset['Dep_hour'].apply(pod)\n",
        "dataset['Arrival_Part_of_day'] = dataset['Arrival_hour'].apply(pod)"
      ],
      "execution_count": 109,
      "outputs": []
    },
    {
      "cell_type": "code",
      "metadata": {
        "colab": {
          "base_uri": "https://localhost:8080/"
        },
        "id": "DeFhSyAALtb0",
        "outputId": "5d38da9b-71ea-41c3-b06a-5c0222547419"
      },
      "source": [
        "dataset.columns"
      ],
      "execution_count": 110,
      "outputs": [
        {
          "output_type": "execute_result",
          "data": {
            "text/plain": [
              "Index(['Airline', 'Date_of_Journey', 'Source', 'Destination', 'Route',\n",
              "       'Dep_Time', 'Arrival_Time', 'Duration', 'Total_Stops',\n",
              "       'Additional_Info', 'Price', 'Date', 'Month', 'Year', 'day', 'Stop',\n",
              "       'Route_1', 'Route_2', 'Route_3', 'Route_4', 'Route_5', 'Arrival_hour',\n",
              "       'Arrival_min', 'Dep_hour', 'Dep_min', 'Duration_mins',\n",
              "       'Dep_Part_of_day', 'Arrival_Part_of_day'],\n",
              "      dtype='object')"
            ]
          },
          "metadata": {
            "tags": []
          },
          "execution_count": 110
        }
      ]
    },
    {
      "cell_type": "markdown",
      "metadata": {
        "id": "OYQW_kiH5s12"
      },
      "source": [
        "# **Data Visualization**"
      ]
    },
    {
      "cell_type": "markdown",
      "metadata": {
        "id": "QSvAGfZv6-wQ"
      },
      "source": [
        "Jet Airways Business class is Having Higher Price than any other Airline"
      ]
    },
    {
      "cell_type": "code",
      "metadata": {
        "colab": {
          "base_uri": "https://localhost:8080/",
          "height": 773
        },
        "id": "9qSWVyzw5vVv",
        "outputId": "dad2ba6f-75d3-4317-e371-1df7760650b5"
      },
      "source": [
        "import matplotlib.pyplot as plt\n",
        "plt.figure(figsize=(20,10))\n",
        "sns.barplot(x = dataset.Airline, y = dataset.Price)\n",
        "plt.xticks(rotation=90)\n",
        "plt.show()"
      ],
      "execution_count": 111,
      "outputs": [
        {
          "output_type": "display_data",
          "data": {
            "image/png": "[encoded data removed]",
            "text/plain": [
              "<Figure size 1440x720 with 1 Axes>"
            ]
          },
          "metadata": {
            "tags": [],
            "needs_background": "light"
          }
        }
      ]
    },
    {
      "cell_type": "code",
      "metadata": {
        "colab": {
          "base_uri": "https://localhost:8080/",
          "height": 653
        },
        "id": "qAYqr4WaNvWL",
        "outputId": "79c48c9d-5d1a-4943-c11b-b387e37843d0"
      },
      "source": [
        "import matplotlib.pyplot as plt\n",
        "plt.figure(figsize=(20,10))\n",
        "sns.barplot(x = dataset.day, y = dataset.Price, hue=dataset.Airline)\n",
        "plt.xticks(rotation=90)\n",
        "plt.show()"
      ],
      "execution_count": 112,
      "outputs": [
        {
          "output_type": "display_data",
          "data": {
            "image/png": "[encoded data removed]",
            "text/plain": [
              "<Figure size 1440x720 with 1 Axes>"
            ]
          },
          "metadata": {
            "tags": [],
            "needs_background": "light"
          }
        }
      ]
    },
    {
      "cell_type": "code",
      "metadata": {
        "colab": {
          "base_uri": "https://localhost:8080/",
          "height": 665
        },
        "id": "Awbe_d8nOGyZ",
        "outputId": "35b964b4-bb88-4b31-9613-621aecc0cb4b"
      },
      "source": [
        "import matplotlib.pyplot as plt\n",
        "plt.figure(figsize=(20,10))\n",
        "sns.barplot(x = dataset.Dep_Part_of_day, y = dataset.Price, hue=dataset.Airline)\n",
        "plt.xticks(rotation=90)\n",
        "plt.show()"
      ],
      "execution_count": 113,
      "outputs": [
        {
          "output_type": "display_data",
          "data": {
            "image/png": "[encoded data removed]",
            "text/plain": [
              "<Figure size 1440x720 with 1 Axes>"
            ]
          },
          "metadata": {
            "tags": [],
            "needs_background": "light"
          }
        }
      ]
    },
    {
      "cell_type": "code",
      "metadata": {
        "colab": {
          "base_uri": "https://localhost:8080/",
          "height": 665
        },
        "id": "Yz5iu7YjOoOJ",
        "outputId": "e393d0f9-e3c3-4209-bfdb-d65429c0b690"
      },
      "source": [
        "import matplotlib.pyplot as plt\n",
        "plt.figure(figsize=(20,10))\n",
        "sns.barplot(x = dataset.Dep_Part_of_day, y = dataset.Price)\n",
        "plt.xticks(rotation=90)\n",
        "plt.show()"
      ],
      "execution_count": 114,
      "outputs": [
        {
          "output_type": "display_data",
          "data": {
            "image/png": "[encoded data removed]",
            "text/plain": [
              "<Figure size 1440x720 with 1 Axes>"
            ]
          },
          "metadata": {
            "tags": [],
            "needs_background": "light"
          }
        }
      ]
    },
    {
      "cell_type": "code",
      "metadata": {
        "colab": {
          "base_uri": "https://localhost:8080/",
          "height": 665
        },
        "id": "hu79I5xuOczk",
        "outputId": "a54e98e1-c450-48cf-bae6-3a37d912f247"
      },
      "source": [
        "import matplotlib.pyplot as plt\n",
        "plt.figure(figsize=(20,10))\n",
        "sns.boxplot(x = dataset.Dep_Part_of_day, y = dataset.Price)\n",
        "plt.xticks(rotation=90)\n",
        "plt.show()"
      ],
      "execution_count": 115,
      "outputs": [
        {
          "output_type": "display_data",
          "data": {
            "image/png": "[encoded data removed]",
            "text/plain": [
              "<Figure size 1440x720 with 1 Axes>"
            ]
          },
          "metadata": {
            "tags": [],
            "needs_background": "light"
          }
        }
      ]
    },
    {
      "cell_type": "code",
      "metadata": {
        "id": "sGO0v_r87Muv"
      },
      "source": [
        "# import dtale\n",
        "# import dtale.app as dtale_app\n",
        "# dtale_app.USE_COLAB = True"
      ],
      "execution_count": 116,
      "outputs": []
    },
    {
      "cell_type": "code",
      "metadata": {
        "id": "MBiTu4QhMKa3"
      },
      "source": [
        "# dtale.show(dataset)"
      ],
      "execution_count": 117,
      "outputs": []
    },
    {
      "cell_type": "code",
      "metadata": {
        "id": "DLKm6K57NfmJ"
      },
      "source": [
        "# # DISCLAIMER: 'df' refers to the data you passed in when calling 'dtale.show'\n",
        "\n",
        "# import pandas as pd\n",
        "# df = dataset\n",
        "# if isinstance(df, (pd.DatetimeIndex, pd.MultiIndex)):\n",
        "# \tdf = df.to_frame(index=False)\n",
        "\n",
        "# # remove any pre-existing indices for ease of use in the D-Tale code, but this is not required\n",
        "# df = df.reset_index().drop('index', axis=1, errors='ignore')\n",
        "# df.columns = [str(c) for c in df.columns]  # update columns to strings in case they are numbers\n",
        "\n",
        "# chart_data = pd.concat([\n",
        "# \tdf['day'],\n",
        "# \tdf['Price'],\n",
        "# \tdf['Airline'],\n",
        "# ], axis=1)\n",
        "# chart_data = chart_data.query(\"\"\"(`Airline` == 'Air Asia') or (`Airline` == 'Air India') or (`Airline` == 'GoAir') or (`Airline` == 'IndiGo') or (`Airline` == 'Jet Airways') or (`Airline` == 'Jet Airways Business') or (`Airline` == 'Multiple carriers') or (`Airline` == 'Multiple carriers Premium economy') or (`Airline` == 'SpiceJet') or (`Airline` == 'Trujet') or (`Airline` == 'Vistara') or (`Airline` == 'Vistara Premium economy')\"\"\")\n",
        "# chart_data = chart_data.sort_values(['Airline', 'day'])\n",
        "# chart_data = chart_data.rename(columns={'day': 'x'})\n",
        "# chart_data = chart_data.dropna()\n",
        "# # WARNING: This is not taking into account grouping of any kind, please apply filter associated with\n",
        "# #          the group in question in order to replicate chart. For this we're using '\"\"\"`Airline` == 'Air Asia'\"\"\"'\n",
        "# chart_data = chart_data.query(\"\"\"`Airline` == 'Air Asia'\"\"\")\n",
        "\n",
        "# import plotly.graph_objs as go\n",
        "\n",
        "# charts = []\n",
        "# charts.append(go.Bar(\n",
        "# \tx=chart_data['x'],\n",
        "# \ty=chart_data['Price'],\n",
        "# \tname='(Airline: Air Asia)'\n",
        "# ))\n",
        "# figure = go.Figure(data=charts, layout=go.Layout({\n",
        "#     'barmode': 'group',\n",
        "#     'legend': {'orientation': 'h'},\n",
        "#     'title': {'text': '(Airline: Air Asia) - Price by day'},\n",
        "#     'xaxis': {'title': {'text': 'day'}},\n",
        "#     'yaxis': {'title': {'text': 'Price'}, 'type': 'linear'}\n",
        "# }))\n",
        "\n",
        "# # If you're having trouble viewing your chart in your notebook try passing your 'chart' into this snippet:\n",
        "# #\n",
        "# from plotly.offline import iplot, init_notebook_mode\n",
        "\n",
        "# init_notebook_mode(connected=True)\n",
        "# for chart in charts:\n",
        "#     chart.pop('id', None) # for some reason iplot does not like 'id'\n",
        "# iplot(figure)"
      ],
      "execution_count": 118,
      "outputs": []
    },
    {
      "cell_type": "code",
      "metadata": {
        "colab": {
          "base_uri": "https://localhost:8080/"
        },
        "id": "ScsKcyj0O2qU",
        "outputId": "c2cdc2bf-d865-45ab-ab97-cc604498f7a8"
      },
      "source": [
        "dataset.isnull().sum()"
      ],
      "execution_count": 119,
      "outputs": [
        {
          "output_type": "execute_result",
          "data": {
            "text/plain": [
              "Airline                    0\n",
              "Date_of_Journey            0\n",
              "Source                     0\n",
              "Destination                0\n",
              "Route                      0\n",
              "Dep_Time                   0\n",
              "Arrival_Time               0\n",
              "Duration                   0\n",
              "Total_Stops                0\n",
              "Additional_Info            0\n",
              "Price                   2671\n",
              "Date                       0\n",
              "Month                      0\n",
              "Year                       0\n",
              "day                        0\n",
              "Stop                       0\n",
              "Route_1                    0\n",
              "Route_2                    0\n",
              "Route_3                 4340\n",
              "Route_4                11397\n",
              "Route_5                13296\n",
              "Arrival_hour               0\n",
              "Arrival_min                0\n",
              "Dep_hour                   0\n",
              "Dep_min                    0\n",
              "Duration_mins              0\n",
              "Dep_Part_of_day            0\n",
              "Arrival_Part_of_day        0\n",
              "dtype: int64"
            ]
          },
          "metadata": {
            "tags": []
          },
          "execution_count": 119
        }
      ]
    },
    {
      "cell_type": "code",
      "metadata": {
        "id": "j7gEXy8kPHFf"
      },
      "source": [
        "dataset[\"Route_3\"].fillna(\"None\", inplace = True)\n",
        "dataset[\"Route_4\"].fillna(\"None\", inplace = True)\n",
        "dataset[\"Route_5\"].fillna(\"None\", inplace = True)"
      ],
      "execution_count": 120,
      "outputs": []
    },
    {
      "cell_type": "code",
      "metadata": {
        "id": "ibGUPsjlPmUY"
      },
      "source": [
        "data = dataset.copy()"
      ],
      "execution_count": 121,
      "outputs": []
    },
    {
      "cell_type": "code",
      "metadata": {
        "id": "ri4HczBMPHIZ"
      },
      "source": [
        "data.drop(['Date_of_Journey', 'Dep_Time', 'Arrival_Time', 'Route', 'Duration', 'Total_Stops', 'Additional_Info'], axis = 1 , inplace = True)"
      ],
      "execution_count": 122,
      "outputs": []
    },
    {
      "cell_type": "code",
      "metadata": {
        "colab": {
          "base_uri": "https://localhost:8080/"
        },
        "id": "PGrAeRydPHLx",
        "outputId": "c987121f-fecf-4349-f36e-b96fbb48074c"
      },
      "source": [
        "data.shape"
      ],
      "execution_count": 123,
      "outputs": [
        {
          "output_type": "execute_result",
          "data": {
            "text/plain": [
              "(13354, 21)"
            ]
          },
          "metadata": {
            "tags": []
          },
          "execution_count": 123
        }
      ]
    },
    {
      "cell_type": "code",
      "metadata": {
        "colab": {
          "base_uri": "https://localhost:8080/"
        },
        "id": "7Dyoad9SPHOs",
        "outputId": "c09bccbd-5438-4985-da92-5ecf5d445126"
      },
      "source": [
        "data.info()"
      ],
      "execution_count": 124,
      "outputs": [
        {
          "output_type": "stream",
          "text": [
            "<class 'pandas.core.frame.DataFrame'>\n",
            "Int64Index: 13354 entries, 0 to 2670\n",
            "Data columns (total 21 columns):\n",
            " #   Column               Non-Null Count  Dtype  \n",
            "---  ------               --------------  -----  \n",
            " 0   Airline              13354 non-null  object \n",
            " 1   Source               13354 non-null  object \n",
            " 2   Destination          13354 non-null  object \n",
            " 3   Price                10683 non-null  float64\n",
            " 4   Date                 13354 non-null  int64  \n",
            " 5   Month                13354 non-null  int64  \n",
            " 6   Year                 13354 non-null  int64  \n",
            " 7   day                  13354 non-null  object \n",
            " 8   Stop                 13354 non-null  int64  \n",
            " 9   Route_1              13354 non-null  object \n",
            " 10  Route_2              13354 non-null  object \n",
            " 11  Route_3              13354 non-null  object \n",
            " 12  Route_4              13354 non-null  object \n",
            " 13  Route_5              13354 non-null  object \n",
            " 14  Arrival_hour         13354 non-null  int64  \n",
            " 15  Arrival_min          13354 non-null  int64  \n",
            " 16  Dep_hour             13354 non-null  int64  \n",
            " 17  Dep_min              13354 non-null  int64  \n",
            " 18  Duration_mins        13354 non-null  int64  \n",
            " 19  Dep_Part_of_day      13354 non-null  object \n",
            " 20  Arrival_Part_of_day  13354 non-null  object \n",
            "dtypes: float64(1), int64(9), object(11)\n",
            "memory usage: 2.6+ MB\n"
          ],
          "name": "stdout"
        }
      ]
    },
    {
      "cell_type": "code",
      "metadata": {
        "id": "wkgW3JQCPHUl"
      },
      "source": [
        "categorical_feature = data.select_dtypes(\"object\")\n",
        "numerical_feature = data.select_dtypes(\"int64\")"
      ],
      "execution_count": 125,
      "outputs": []
    },
    {
      "cell_type": "code",
      "metadata": {
        "colab": {
          "base_uri": "https://localhost:8080/"
        },
        "id": "RWrJC8TKSQ8I",
        "outputId": "2bcecd49-3aa4-41bb-853b-168023767b3b"
      },
      "source": [
        "data.day.value_counts()"
      ],
      "execution_count": 126,
      "outputs": [
        {
          "output_type": "execute_result",
          "data": {
            "text/plain": [
              "Wednesday    2621\n",
              "Monday       2307\n",
              "Thursday     2283\n",
              "Saturday     2097\n",
              "Sunday       1849\n",
              "Friday       1121\n",
              "Tuesday      1076\n",
              "Name: day, dtype: int64"
            ]
          },
          "metadata": {
            "tags": []
          },
          "execution_count": 126
        }
      ]
    },
    {
      "cell_type": "markdown",
      "metadata": {
        "id": "gTivTKR-S5qf"
      },
      "source": [
        "# **Feature Engineering**"
      ]
    },
    {
      "cell_type": "code",
      "metadata": {
        "id": "_mLXYqShSMfk"
      },
      "source": [
        "weights = {\n",
        "    'Monday' : 1,\n",
        "    'Tuesday' : 2, \n",
        "    'Wednesday' : 3,\n",
        "    'Thursday' : 4,\n",
        "    'Friday' : 5,\n",
        "    'Saturday' : 6,\n",
        "    'Sunday' : 7\n",
        "}\n",
        "\n",
        "data['day'] = data['day'].map(weights)"
      ],
      "execution_count": 127,
      "outputs": []
    },
    {
      "cell_type": "code",
      "metadata": {
        "id": "QedhMdrCRB0I"
      },
      "source": [
        "from sklearn.preprocessing import LabelEncoder\n",
        "encoder=LabelEncoder()\n",
        "data[\"Airline\"]=encoder.fit_transform(data['Airline'])\n",
        "data[\"Source\"]=encoder.fit_transform(data['Source'])\n",
        "data[\"Destination\"]=encoder.fit_transform(data['Destination'])\n",
        "data[\"Route_1\"]=encoder.fit_transform(data['Route_1'])\n",
        "data[\"Route_2\"]=encoder.fit_transform(data['Route_2'])\n",
        "data[\"Route_3\"]=encoder.fit_transform(data['Route_3'])\n",
        "data[\"Route_4\"]=encoder.fit_transform(data['Route_4'])\n",
        "data[\"Route_5\"]=encoder.fit_transform(data['Route_5'])\n",
        "data[\"Dep_Part_of_day\"]=encoder.fit_transform(data['Dep_Part_of_day'])\n",
        "data[\"Arrival_Part_of_day\"]=encoder.fit_transform(data['Arrival_Part_of_day'])"
      ],
      "execution_count": 128,
      "outputs": []
    },
    {
      "cell_type": "code",
      "metadata": {
        "colab": {
          "base_uri": "https://localhost:8080/"
        },
        "id": "ih5VN2ucSipz",
        "outputId": "7095b0f5-e8ae-4073-ebd6-fac02ccf43a2"
      },
      "source": [
        "data.info()"
      ],
      "execution_count": 129,
      "outputs": [
        {
          "output_type": "stream",
          "text": [
            "<class 'pandas.core.frame.DataFrame'>\n",
            "Int64Index: 13354 entries, 0 to 2670\n",
            "Data columns (total 21 columns):\n",
            " #   Column               Non-Null Count  Dtype  \n",
            "---  ------               --------------  -----  \n",
            " 0   Airline              13354 non-null  int64  \n",
            " 1   Source               13354 non-null  int64  \n",
            " 2   Destination          13354 non-null  int64  \n",
            " 3   Price                10683 non-null  float64\n",
            " 4   Date                 13354 non-null  int64  \n",
            " 5   Month                13354 non-null  int64  \n",
            " 6   Year                 13354 non-null  int64  \n",
            " 7   day                  13354 non-null  int64  \n",
            " 8   Stop                 13354 non-null  int64  \n",
            " 9   Route_1              13354 non-null  int64  \n",
            " 10  Route_2              13354 non-null  int64  \n",
            " 11  Route_3              13354 non-null  int64  \n",
            " 12  Route_4              13354 non-null  int64  \n",
            " 13  Route_5              13354 non-null  int64  \n",
            " 14  Arrival_hour         13354 non-null  int64  \n",
            " 15  Arrival_min          13354 non-null  int64  \n",
            " 16  Dep_hour             13354 non-null  int64  \n",
            " 17  Dep_min              13354 non-null  int64  \n",
            " 18  Duration_mins        13354 non-null  int64  \n",
            " 19  Dep_Part_of_day      13354 non-null  int64  \n",
            " 20  Arrival_Part_of_day  13354 non-null  int64  \n",
            "dtypes: float64(1), int64(20)\n",
            "memory usage: 2.6 MB\n"
          ],
          "name": "stdout"
        }
      ]
    },
    {
      "cell_type": "code",
      "metadata": {
        "id": "xxcFtU-zSqRQ"
      },
      "source": [
        "data_train=data[0:10683]\n",
        "data_test=data[10683:]"
      ],
      "execution_count": 130,
      "outputs": []
    },
    {
      "cell_type": "markdown",
      "metadata": {
        "id": "BkHzu5c_TYBI"
      },
      "source": [
        "# **Train & Test set Split**"
      ]
    },
    {
      "cell_type": "code",
      "metadata": {
        "id": "QirG7yVATed8"
      },
      "source": [
        "X = data_train.drop(['Price'], axis = 1)\n",
        "y = data_train['Price']"
      ],
      "execution_count": 131,
      "outputs": []
    },
    {
      "cell_type": "code",
      "metadata": {
        "id": "OlTy1qPTTcBX"
      },
      "source": [
        "from sklearn.model_selection import train_test_split\n",
        "X_train, X_test, y_train, y_test = train_test_split(X, y, test_size=0.25, random_state=27)"
      ],
      "execution_count": 132,
      "outputs": []
    },
    {
      "cell_type": "code",
      "metadata": {
        "colab": {
          "base_uri": "https://localhost:8080/"
        },
        "id": "kmMRtbn9T3sB",
        "outputId": "f1937815-f0ac-4efd-b248-8cc42ea16c95"
      },
      "source": [
        "X_train.shape"
      ],
      "execution_count": 133,
      "outputs": [
        {
          "output_type": "execute_result",
          "data": {
            "text/plain": [
              "(8012, 20)"
            ]
          },
          "metadata": {
            "tags": []
          },
          "execution_count": 133
        }
      ]
    },
    {
      "cell_type": "markdown",
      "metadata": {
        "id": "yYJiqxHuS-r_"
      },
      "source": [
        "# **Feature Selection**"
      ]
    },
    {
      "cell_type": "code",
      "metadata": {
        "id": "vkKli7WNSxIp"
      },
      "source": [
        "from sklearn.feature_selection import SelectKBest\n",
        "from sklearn.feature_selection import chi2\n",
        "\n",
        "### Apply SelectKBest Algorithm\n",
        "ordered_rank_features=SelectKBest(score_func=chi2,k=20)\n",
        "ordered_feature=ordered_rank_features.fit(X_train,y_train)"
      ],
      "execution_count": 134,
      "outputs": []
    },
    {
      "cell_type": "code",
      "metadata": {
        "id": "-yZsrT9bT7so"
      },
      "source": [
        "dfscores=pd.DataFrame(ordered_feature.scores_,columns=[\"Score\"])\n",
        "dfcolumns=pd.DataFrame(X_train.columns)"
      ],
      "execution_count": 135,
      "outputs": []
    },
    {
      "cell_type": "code",
      "metadata": {
        "colab": {
          "base_uri": "https://localhost:8080/",
          "height": 669
        },
        "id": "eVuDwE1GUEBA",
        "outputId": "8a76e69d-9317-4b24-804f-4d121cfba343"
      },
      "source": [
        "features_rank=pd.concat([dfcolumns,dfscores],axis=1)\n",
        "features_rank.columns=['Features','Score']\n",
        "features_rank"
      ],
      "execution_count": 136,
      "outputs": [
        {
          "output_type": "execute_result",
          "data": {
            "text/html": [
              "<div>\n",
              "<style scoped>\n",
              "    .dataframe tbody tr th:only-of-type {\n",
              "        vertical-align: middle;\n",
              "    }\n",
              "\n",
              "    .dataframe tbody tr th {\n",
              "        vertical-align: top;\n",
              "    }\n",
              "\n",
              "    .dataframe thead th {\n",
              "        text-align: right;\n",
              "    }\n",
              "</style>\n",
              "<table border=\"1\" class=\"dataframe\">\n",
              "  <thead>\n",
              "    <tr style=\"text-align: right;\">\n",
              "      <th></th>\n",
              "      <th>Features</th>\n",
              "      <th>Score</th>\n",
              "    </tr>\n",
              "  </thead>\n",
              "  <tbody>\n",
              "    <tr>\n",
              "      <th>0</th>\n",
              "      <td>Airline</td>\n",
              "      <td>1.051974e+04</td>\n",
              "    </tr>\n",
              "    <tr>\n",
              "      <th>1</th>\n",
              "      <td>Source</td>\n",
              "      <td>5.554467e+03</td>\n",
              "    </tr>\n",
              "    <tr>\n",
              "      <th>2</th>\n",
              "      <td>Destination</td>\n",
              "      <td>1.165279e+04</td>\n",
              "    </tr>\n",
              "    <tr>\n",
              "      <th>3</th>\n",
              "      <td>Date</td>\n",
              "      <td>1.741730e+04</td>\n",
              "    </tr>\n",
              "    <tr>\n",
              "      <th>4</th>\n",
              "      <td>Month</td>\n",
              "      <td>1.828831e+03</td>\n",
              "    </tr>\n",
              "    <tr>\n",
              "      <th>5</th>\n",
              "      <td>Year</td>\n",
              "      <td>5.075136e-26</td>\n",
              "    </tr>\n",
              "    <tr>\n",
              "      <th>6</th>\n",
              "      <td>day</td>\n",
              "      <td>3.039154e+03</td>\n",
              "    </tr>\n",
              "    <tr>\n",
              "      <th>7</th>\n",
              "      <td>Stop</td>\n",
              "      <td>4.346408e+03</td>\n",
              "    </tr>\n",
              "    <tr>\n",
              "      <th>8</th>\n",
              "      <td>Route_1</td>\n",
              "      <td>5.694196e+03</td>\n",
              "    </tr>\n",
              "    <tr>\n",
              "      <th>9</th>\n",
              "      <td>Route_2</td>\n",
              "      <td>3.894687e+04</td>\n",
              "    </tr>\n",
              "    <tr>\n",
              "      <th>10</th>\n",
              "      <td>Route_3</td>\n",
              "      <td>5.553727e+04</td>\n",
              "    </tr>\n",
              "    <tr>\n",
              "      <th>11</th>\n",
              "      <td>Route_4</td>\n",
              "      <td>4.658762e+03</td>\n",
              "    </tr>\n",
              "    <tr>\n",
              "      <th>12</th>\n",
              "      <td>Route_5</td>\n",
              "      <td>4.954547e+01</td>\n",
              "    </tr>\n",
              "    <tr>\n",
              "      <th>13</th>\n",
              "      <td>Arrival_hour</td>\n",
              "      <td>1.427676e+04</td>\n",
              "    </tr>\n",
              "    <tr>\n",
              "      <th>14</th>\n",
              "      <td>Arrival_min</td>\n",
              "      <td>3.941095e+04</td>\n",
              "    </tr>\n",
              "    <tr>\n",
              "      <th>15</th>\n",
              "      <td>Dep_hour</td>\n",
              "      <td>8.577665e+03</td>\n",
              "    </tr>\n",
              "    <tr>\n",
              "      <th>16</th>\n",
              "      <td>Dep_min</td>\n",
              "      <td>5.304306e+04</td>\n",
              "    </tr>\n",
              "    <tr>\n",
              "      <th>17</th>\n",
              "      <td>Duration_mins</td>\n",
              "      <td>2.526226e+06</td>\n",
              "    </tr>\n",
              "    <tr>\n",
              "      <th>18</th>\n",
              "      <td>Dep_Part_of_day</td>\n",
              "      <td>3.017685e+03</td>\n",
              "    </tr>\n",
              "    <tr>\n",
              "      <th>19</th>\n",
              "      <td>Arrival_Part_of_day</td>\n",
              "      <td>3.897470e+03</td>\n",
              "    </tr>\n",
              "  </tbody>\n",
              "</table>\n",
              "</div>"
            ],
            "text/plain": [
              "               Features         Score\n",
              "0               Airline  1.051974e+04\n",
              "1                Source  5.554467e+03\n",
              "2           Destination  1.165279e+04\n",
              "3                  Date  1.741730e+04\n",
              "4                 Month  1.828831e+03\n",
              "5                  Year  5.075136e-26\n",
              "6                   day  3.039154e+03\n",
              "7                  Stop  4.346408e+03\n",
              "8               Route_1  5.694196e+03\n",
              "9               Route_2  3.894687e+04\n",
              "10              Route_3  5.553727e+04\n",
              "11              Route_4  4.658762e+03\n",
              "12              Route_5  4.954547e+01\n",
              "13         Arrival_hour  1.427676e+04\n",
              "14          Arrival_min  3.941095e+04\n",
              "15             Dep_hour  8.577665e+03\n",
              "16              Dep_min  5.304306e+04\n",
              "17        Duration_mins  2.526226e+06\n",
              "18      Dep_Part_of_day  3.017685e+03\n",
              "19  Arrival_Part_of_day  3.897470e+03"
            ]
          },
          "metadata": {
            "tags": []
          },
          "execution_count": 136
        }
      ]
    },
    {
      "cell_type": "code",
      "metadata": {
        "colab": {
          "base_uri": "https://localhost:8080/",
          "height": 669
        },
        "id": "9s6e8KCFUm2F",
        "outputId": "3426371f-59d4-4da7-a0e8-22c5e3c08d03"
      },
      "source": [
        "features_rank.nlargest(20,'Score') "
      ],
      "execution_count": 137,
      "outputs": [
        {
          "output_type": "execute_result",
          "data": {
            "text/html": [
              "<div>\n",
              "<style scoped>\n",
              "    .dataframe tbody tr th:only-of-type {\n",
              "        vertical-align: middle;\n",
              "    }\n",
              "\n",
              "    .dataframe tbody tr th {\n",
              "        vertical-align: top;\n",
              "    }\n",
              "\n",
              "    .dataframe thead th {\n",
              "        text-align: right;\n",
              "    }\n",
              "</style>\n",
              "<table border=\"1\" class=\"dataframe\">\n",
              "  <thead>\n",
              "    <tr style=\"text-align: right;\">\n",
              "      <th></th>\n",
              "      <th>Features</th>\n",
              "      <th>Score</th>\n",
              "    </tr>\n",
              "  </thead>\n",
              "  <tbody>\n",
              "    <tr>\n",
              "      <th>17</th>\n",
              "      <td>Duration_mins</td>\n",
              "      <td>2.526226e+06</td>\n",
              "    </tr>\n",
              "    <tr>\n",
              "      <th>10</th>\n",
              "      <td>Route_3</td>\n",
              "      <td>5.553727e+04</td>\n",
              "    </tr>\n",
              "    <tr>\n",
              "      <th>16</th>\n",
              "      <td>Dep_min</td>\n",
              "      <td>5.304306e+04</td>\n",
              "    </tr>\n",
              "    <tr>\n",
              "      <th>14</th>\n",
              "      <td>Arrival_min</td>\n",
              "      <td>3.941095e+04</td>\n",
              "    </tr>\n",
              "    <tr>\n",
              "      <th>9</th>\n",
              "      <td>Route_2</td>\n",
              "      <td>3.894687e+04</td>\n",
              "    </tr>\n",
              "    <tr>\n",
              "      <th>3</th>\n",
              "      <td>Date</td>\n",
              "      <td>1.741730e+04</td>\n",
              "    </tr>\n",
              "    <tr>\n",
              "      <th>13</th>\n",
              "      <td>Arrival_hour</td>\n",
              "      <td>1.427676e+04</td>\n",
              "    </tr>\n",
              "    <tr>\n",
              "      <th>2</th>\n",
              "      <td>Destination</td>\n",
              "      <td>1.165279e+04</td>\n",
              "    </tr>\n",
              "    <tr>\n",
              "      <th>0</th>\n",
              "      <td>Airline</td>\n",
              "      <td>1.051974e+04</td>\n",
              "    </tr>\n",
              "    <tr>\n",
              "      <th>15</th>\n",
              "      <td>Dep_hour</td>\n",
              "      <td>8.577665e+03</td>\n",
              "    </tr>\n",
              "    <tr>\n",
              "      <th>8</th>\n",
              "      <td>Route_1</td>\n",
              "      <td>5.694196e+03</td>\n",
              "    </tr>\n",
              "    <tr>\n",
              "      <th>1</th>\n",
              "      <td>Source</td>\n",
              "      <td>5.554467e+03</td>\n",
              "    </tr>\n",
              "    <tr>\n",
              "      <th>11</th>\n",
              "      <td>Route_4</td>\n",
              "      <td>4.658762e+03</td>\n",
              "    </tr>\n",
              "    <tr>\n",
              "      <th>7</th>\n",
              "      <td>Stop</td>\n",
              "      <td>4.346408e+03</td>\n",
              "    </tr>\n",
              "    <tr>\n",
              "      <th>19</th>\n",
              "      <td>Arrival_Part_of_day</td>\n",
              "      <td>3.897470e+03</td>\n",
              "    </tr>\n",
              "    <tr>\n",
              "      <th>6</th>\n",
              "      <td>day</td>\n",
              "      <td>3.039154e+03</td>\n",
              "    </tr>\n",
              "    <tr>\n",
              "      <th>18</th>\n",
              "      <td>Dep_Part_of_day</td>\n",
              "      <td>3.017685e+03</td>\n",
              "    </tr>\n",
              "    <tr>\n",
              "      <th>4</th>\n",
              "      <td>Month</td>\n",
              "      <td>1.828831e+03</td>\n",
              "    </tr>\n",
              "    <tr>\n",
              "      <th>12</th>\n",
              "      <td>Route_5</td>\n",
              "      <td>4.954547e+01</td>\n",
              "    </tr>\n",
              "    <tr>\n",
              "      <th>5</th>\n",
              "      <td>Year</td>\n",
              "      <td>5.075136e-26</td>\n",
              "    </tr>\n",
              "  </tbody>\n",
              "</table>\n",
              "</div>"
            ],
            "text/plain": [
              "               Features         Score\n",
              "17        Duration_mins  2.526226e+06\n",
              "10              Route_3  5.553727e+04\n",
              "16              Dep_min  5.304306e+04\n",
              "14          Arrival_min  3.941095e+04\n",
              "9               Route_2  3.894687e+04\n",
              "3                  Date  1.741730e+04\n",
              "13         Arrival_hour  1.427676e+04\n",
              "2           Destination  1.165279e+04\n",
              "0               Airline  1.051974e+04\n",
              "15             Dep_hour  8.577665e+03\n",
              "8               Route_1  5.694196e+03\n",
              "1                Source  5.554467e+03\n",
              "11              Route_4  4.658762e+03\n",
              "7                  Stop  4.346408e+03\n",
              "19  Arrival_Part_of_day  3.897470e+03\n",
              "6                   day  3.039154e+03\n",
              "18      Dep_Part_of_day  3.017685e+03\n",
              "4                 Month  1.828831e+03\n",
              "12              Route_5  4.954547e+01\n",
              "5                  Year  5.075136e-26"
            ]
          },
          "metadata": {
            "tags": []
          },
          "execution_count": 137
        }
      ]
    },
    {
      "cell_type": "code",
      "metadata": {
        "id": "ZNWxSBW3U2Qy"
      },
      "source": [
        "# with the following function we can select highly correlated features\n",
        "# it will remove the first feature that is correlated with anything other feature\n",
        "\n",
        "def correlation(dataset, threshold):\n",
        "    col_corr = set()  # Set of all the names of correlated columns\n",
        "    corr_matrix = dataset.corr()\n",
        "    for i in range(len(corr_matrix.columns)):\n",
        "        for j in range(i):\n",
        "            if abs(corr_matrix.iloc[i, j]) > threshold: # we are interested in absolute coeff value\n",
        "                colname = corr_matrix.columns[i]  # getting the name of column\n",
        "                col_corr.add(colname)\n",
        "    return col_corr"
      ],
      "execution_count": 138,
      "outputs": []
    },
    {
      "cell_type": "code",
      "metadata": {
        "id": "T7DmZ2NLU-kR"
      },
      "source": [
        "feature_corr = correlation(X_train, 0.85)"
      ],
      "execution_count": 139,
      "outputs": []
    },
    {
      "cell_type": "markdown",
      "metadata": {
        "id": "CKZEp1M8VQ3I"
      },
      "source": [
        "No much correlation between the feature"
      ]
    },
    {
      "cell_type": "code",
      "metadata": {
        "id": "7cRg2qSCVXag"
      },
      "source": [
        "from sklearn.linear_model import Lasso\n",
        "from sklearn.feature_selection import SelectFromModel"
      ],
      "execution_count": 140,
      "outputs": []
    },
    {
      "cell_type": "code",
      "metadata": {
        "id": "-eLYx3ikVcp9"
      },
      "source": [
        "model=SelectFromModel(Lasso(alpha=0.005,random_state=0))"
      ],
      "execution_count": 141,
      "outputs": []
    },
    {
      "cell_type": "code",
      "metadata": {
        "colab": {
          "base_uri": "https://localhost:8080/"
        },
        "id": "3UDgRgkbVf9k",
        "outputId": "31e40639-742a-464b-88b6-1f74f220f015"
      },
      "source": [
        "model.fit(X_train,y_train)"
      ],
      "execution_count": 142,
      "outputs": [
        {
          "output_type": "execute_result",
          "data": {
            "text/plain": [
              "SelectFromModel(estimator=Lasso(alpha=0.005, copy_X=True, fit_intercept=True,\n",
              "                                max_iter=1000, normalize=False, positive=False,\n",
              "                                precompute=False, random_state=0,\n",
              "                                selection='cyclic', tol=0.0001,\n",
              "                                warm_start=False),\n",
              "                max_features=None, norm_order=1, prefit=False, threshold=None)"
            ]
          },
          "metadata": {
            "tags": []
          },
          "execution_count": 142
        }
      ]
    },
    {
      "cell_type": "code",
      "metadata": {
        "id": "wfMDsS1iViTs"
      },
      "source": [
        "selected_features=X_train.columns[(model.get_support())]"
      ],
      "execution_count": 143,
      "outputs": []
    },
    {
      "cell_type": "code",
      "metadata": {
        "colab": {
          "base_uri": "https://localhost:8080/"
        },
        "id": "0J8itjxjVw9y",
        "outputId": "03009030-23b8-407f-8c68-efee45311b40"
      },
      "source": [
        "X_train.columns"
      ],
      "execution_count": 144,
      "outputs": [
        {
          "output_type": "execute_result",
          "data": {
            "text/plain": [
              "Index(['Airline', 'Source', 'Destination', 'Date', 'Month', 'Year', 'day',\n",
              "       'Stop', 'Route_1', 'Route_2', 'Route_3', 'Route_4', 'Route_5',\n",
              "       'Arrival_hour', 'Arrival_min', 'Dep_hour', 'Dep_min', 'Duration_mins',\n",
              "       'Dep_Part_of_day', 'Arrival_Part_of_day'],\n",
              "      dtype='object')"
            ]
          },
          "metadata": {
            "tags": []
          },
          "execution_count": 144
        }
      ]
    },
    {
      "cell_type": "code",
      "metadata": {
        "colab": {
          "base_uri": "https://localhost:8080/"
        },
        "id": "xOCt-SeSVu1I",
        "outputId": "a109dd19-4529-470d-b265-8dccd8325d2f"
      },
      "source": [
        "selected_features"
      ],
      "execution_count": 145,
      "outputs": [
        {
          "output_type": "execute_result",
          "data": {
            "text/plain": [
              "Index(['Airline', 'Source', 'Destination', 'Date', 'Month', 'day', 'Stop',\n",
              "       'Route_1', 'Route_2', 'Route_3', 'Route_4', 'Route_5', 'Arrival_hour',\n",
              "       'Arrival_min', 'Dep_hour', 'Dep_min', 'Duration_mins',\n",
              "       'Dep_Part_of_day', 'Arrival_Part_of_day'],\n",
              "      dtype='object')"
            ]
          },
          "metadata": {
            "tags": []
          },
          "execution_count": 145
        }
      ]
    },
    {
      "cell_type": "code",
      "metadata": {
        "id": "n-mS57j3VtRC"
      },
      "source": [
        "X_train=X_train.drop(['Year', 'Dep_Part_of_day', 'Arrival_Part_of_day'],axis=1)\n",
        "X_test=X_test.drop(['Year', 'Dep_Part_of_day', 'Arrival_Part_of_day'],axis=1)"
      ],
      "execution_count": 190,
      "outputs": []
    },
    {
      "cell_type": "markdown",
      "metadata": {
        "id": "U4x0Kt_EWDJz"
      },
      "source": [
        "# **Feature Scaling**"
      ]
    },
    {
      "cell_type": "code",
      "metadata": {
        "id": "O_EpbLizWFi4"
      },
      "source": [
        "def plot_feature_distribution(df, feature):\n",
        "  plt.figure(figsize=(15,3))\n",
        "  plt.subplot(1,3,1)\n",
        "  df[feature].hist()\n",
        "  plt.subplot(1,3,2)\n",
        "  sns.boxplot(df[feature])\n",
        "  plt.subplot(1,3,3)\n",
        "  stat.probplot(df[feature],dist='norm',plot=pylab)\n",
        "  plt.show()"
      ],
      "execution_count": 191,
      "outputs": []
    },
    {
      "cell_type": "code",
      "metadata": {
        "colab": {
          "base_uri": "https://localhost:8080/",
          "height": 1000
        },
        "id": "1gLlVQK6WLmP",
        "outputId": "99abaff0-fdce-44ca-9228-cd017f28a3fc"
      },
      "source": [
        "for feature in X_train.columns:\n",
        "  print(feature)\n",
        "  plot_feature_distribution(X_train, feature)"
      ],
      "execution_count": 192,
      "outputs": [
        {
          "output_type": "stream",
          "text": [
            "Airline\n"
          ],
          "name": "stdout"
        },
        {
          "output_type": "stream",
          "text": [
            "/usr/local/lib/python3.7/dist-packages/seaborn/_decorators.py:43: FutureWarning: Pass the following variable as a keyword arg: x. From version 0.12, the only valid positional argument will be `data`, and passing other arguments without an explicit keyword will result in an error or misinterpretation.\n",
            "  FutureWarning\n"
          ],
          "name": "stderr"
        },
        {
          "output_type": "display_data",
          "data": {
            "image/png": "[encoded data removed]",
            "text/plain": [
              "<Figure size 1080x216 with 3 Axes>"
            ]
          },
          "metadata": {
            "tags": [],
            "needs_background": "light"
          }
        },
        {
          "output_type": "stream",
          "text": [
            "Source\n"
          ],
          "name": "stdout"
        },
        {
          "output_type": "stream",
          "text": [
            "/usr/local/lib/python3.7/dist-packages/seaborn/_decorators.py:43: FutureWarning: Pass the following variable as a keyword arg: x. From version 0.12, the only valid positional argument will be `data`, and passing other arguments without an explicit keyword will result in an error or misinterpretation.\n",
            "  FutureWarning\n"
          ],
          "name": "stderr"
        },
        {
          "output_type": "display_data",
          "data": {
            "image/png": "[encoded data removed]",
            "text/plain": [
              "<Figure size 1080x216 with 3 Axes>"
            ]
          },
          "metadata": {
            "tags": [],
            "needs_background": "light"
          }
        },
        {
          "output_type": "stream",
          "text": [
            "Destination\n"
          ],
          "name": "stdout"
        },
        {
          "output_type": "stream",
          "text": [
            "/usr/local/lib/python3.7/dist-packages/seaborn/_decorators.py:43: FutureWarning: Pass the following variable as a keyword arg: x. From version 0.12, the only valid positional argument will be `data`, and passing other arguments without an explicit keyword will result in an error or misinterpretation.\n",
            "  FutureWarning\n"
          ],
          "name": "stderr"
        },
        {
          "output_type": "display_data",
          "data": {
            "image/png": "[encoded data removed]",
            "text/plain": [
              "<Figure size 1080x216 with 3 Axes>"
            ]
          },
          "metadata": {
            "tags": [],
            "needs_background": "light"
          }
        },
        {
          "output_type": "stream",
          "text": [
            "Date\n"
          ],
          "name": "stdout"
        },
        {
          "output_type": "stream",
          "text": [
            "/usr/local/lib/python3.7/dist-packages/seaborn/_decorators.py:43: FutureWarning: Pass the following variable as a keyword arg: x. From version 0.12, the only valid positional argument will be `data`, and passing other arguments without an explicit keyword will result in an error or misinterpretation.\n",
            "  FutureWarning\n"
          ],
          "name": "stderr"
        },
        {
          "output_type": "display_data",
          "data": {
            "image/png": "[encoded data removed]",
            "text/plain": [
              "<Figure size 1080x216 with 3 Axes>"
            ]
          },
          "metadata": {
            "tags": [],
            "needs_background": "light"
          }
        },
        {
          "output_type": "stream",
          "text": [
            "Month\n"
          ],
          "name": "stdout"
        },
        {
          "output_type": "stream",
          "text": [
            "/usr/local/lib/python3.7/dist-packages/seaborn/_decorators.py:43: FutureWarning: Pass the following variable as a keyword arg: x. From version 0.12, the only valid positional argument will be `data`, and passing other arguments without an explicit keyword will result in an error or misinterpretation.\n",
            "  FutureWarning\n"
          ],
          "name": "stderr"
        },
        {
          "output_type": "display_data",
          "data": {
            "image/png": "[encoded data removed]",
            "text/plain": [
              "<Figure size 1080x216 with 3 Axes>"
            ]
          },
          "metadata": {
            "tags": [],
            "needs_background": "light"
          }
        },
        {
          "output_type": "stream",
          "text": [
            "day\n"
          ],
          "name": "stdout"
        },
        {
          "output_type": "stream",
          "text": [
            "/usr/local/lib/python3.7/dist-packages/seaborn/_decorators.py:43: FutureWarning: Pass the following variable as a keyword arg: x. From version 0.12, the only valid positional argument will be `data`, and passing other arguments without an explicit keyword will result in an error or misinterpretation.\n",
            "  FutureWarning\n"
          ],
          "name": "stderr"
        },
        {
          "output_type": "display_data",
          "data": {
            "image/png": "[encoded data removed]",
            "text/plain": [
              "<Figure size 1080x216 with 3 Axes>"
            ]
          },
          "metadata": {
            "tags": [],
            "needs_background": "light"
          }
        },
        {
          "output_type": "stream",
          "text": [
            "Stop\n"
          ],
          "name": "stdout"
        },
        {
          "output_type": "stream",
          "text": [
            "/usr/local/lib/python3.7/dist-packages/seaborn/_decorators.py:43: FutureWarning: Pass the following variable as a keyword arg: x. From version 0.12, the only valid positional argument will be `data`, and passing other arguments without an explicit keyword will result in an error or misinterpretation.\n",
            "  FutureWarning\n"
          ],
          "name": "stderr"
        },
        {
          "output_type": "display_data",
          "data": {
            "image/png": "[encoded data removed]",
            "text/plain": [
              "<Figure size 1080x216 with 3 Axes>"
            ]
          },
          "metadata": {
            "tags": [],
            "needs_background": "light"
          }
        },
        {
          "output_type": "stream",
          "text": [
            "Route_1\n"
          ],
          "name": "stdout"
        },
        {
          "output_type": "stream",
          "text": [
            "/usr/local/lib/python3.7/dist-packages/seaborn/_decorators.py:43: FutureWarning: Pass the following variable as a keyword arg: x. From version 0.12, the only valid positional argument will be `data`, and passing other arguments without an explicit keyword will result in an error or misinterpretation.\n",
            "  FutureWarning\n"
          ],
          "name": "stderr"
        },
        {
          "output_type": "display_data",
          "data": {
            "image/png": "[encoded data removed]",
            "text/plain": [
              "<Figure size 1080x216 with 3 Axes>"
            ]
          },
          "metadata": {
            "tags": [],
            "needs_background": "light"
          }
        },
        {
          "output_type": "stream",
          "text": [
            "Route_2\n"
          ],
          "name": "stdout"
        },
        {
          "output_type": "stream",
          "text": [
            "/usr/local/lib/python3.7/dist-packages/seaborn/_decorators.py:43: FutureWarning: Pass the following variable as a keyword arg: x. From version 0.12, the only valid positional argument will be `data`, and passing other arguments without an explicit keyword will result in an error or misinterpretation.\n",
            "  FutureWarning\n"
          ],
          "name": "stderr"
        },
        {
          "output_type": "display_data",
          "data": {
            "image/png": "[encoded data removed]",
            "text/plain": [
              "<Figure size 1080x216 with 3 Axes>"
            ]
          },
          "metadata": {
            "tags": [],
            "needs_background": "light"
          }
        },
        {
          "output_type": "stream",
          "text": [
            "Route_3\n"
          ],
          "name": "stdout"
        },
        {
          "output_type": "stream",
          "text": [
            "/usr/local/lib/python3.7/dist-packages/seaborn/_decorators.py:43: FutureWarning: Pass the following variable as a keyword arg: x. From version 0.12, the only valid positional argument will be `data`, and passing other arguments without an explicit keyword will result in an error or misinterpretation.\n",
            "  FutureWarning\n"
          ],
          "name": "stderr"
        },
        {
          "output_type": "display_data",
          "data": {
            "image/png": "[encoded data removed]",
            "text/plain": [
              "<Figure size 1080x216 with 3 Axes>"
            ]
          },
          "metadata": {
            "tags": [],
            "needs_background": "light"
          }
        },
        {
          "output_type": "stream",
          "text": [
            "Route_4\n"
          ],
          "name": "stdout"
        },
        {
          "output_type": "stream",
          "text": [
            "/usr/local/lib/python3.7/dist-packages/seaborn/_decorators.py:43: FutureWarning: Pass the following variable as a keyword arg: x. From version 0.12, the only valid positional argument will be `data`, and passing other arguments without an explicit keyword will result in an error or misinterpretation.\n",
            "  FutureWarning\n"
          ],
          "name": "stderr"
        },
        {
          "output_type": "display_data",
          "data": {
            "image/png": "[encoded data removed]",
            "text/plain": [
              "<Figure size 1080x216 with 3 Axes>"
            ]
          },
          "metadata": {
            "tags": [],
            "needs_background": "light"
          }
        },
        {
          "output_type": "stream",
          "text": [
            "Route_5\n"
          ],
          "name": "stdout"
        },
        {
          "output_type": "stream",
          "text": [
            "/usr/local/lib/python3.7/dist-packages/seaborn/_decorators.py:43: FutureWarning: Pass the following variable as a keyword arg: x. From version 0.12, the only valid positional argument will be `data`, and passing other arguments without an explicit keyword will result in an error or misinterpretation.\n",
            "  FutureWarning\n"
          ],
          "name": "stderr"
        },
        {
          "output_type": "display_data",
          "data": {
            "image/png": "[encoded data removed]",
            "text/plain": [
              "<Figure size 1080x216 with 3 Axes>"
            ]
          },
          "metadata": {
            "tags": [],
            "needs_background": "light"
          }
        },
        {
          "output_type": "stream",
          "text": [
            "Arrival_hour\n"
          ],
          "name": "stdout"
        },
        {
          "output_type": "stream",
          "text": [
            "/usr/local/lib/python3.7/dist-packages/seaborn/_decorators.py:43: FutureWarning: Pass the following variable as a keyword arg: x. From version 0.12, the only valid positional argument will be `data`, and passing other arguments without an explicit keyword will result in an error or misinterpretation.\n",
            "  FutureWarning\n"
          ],
          "name": "stderr"
        },
        {
          "output_type": "display_data",
          "data": {
            "image/png": "[encoded data removed]",
            "text/plain": [
              "<Figure size 1080x216 with 3 Axes>"
            ]
          },
          "metadata": {
            "tags": [],
            "needs_background": "light"
          }
        },
        {
          "output_type": "stream",
          "text": [
            "Arrival_min\n"
          ],
          "name": "stdout"
        },
        {
          "output_type": "stream",
          "text": [
            "/usr/local/lib/python3.7/dist-packages/seaborn/_decorators.py:43: FutureWarning: Pass the following variable as a keyword arg: x. From version 0.12, the only valid positional argument will be `data`, and passing other arguments without an explicit keyword will result in an error or misinterpretation.\n",
            "  FutureWarning\n"
          ],
          "name": "stderr"
        },
        {
          "output_type": "display_data",
          "data": {
            "image/png": "[encoded data removed]",
            "text/plain": [
              "<Figure size 1080x216 with 3 Axes>"
            ]
          },
          "metadata": {
            "tags": [],
            "needs_background": "light"
          }
        },
        {
          "output_type": "stream",
          "text": [
            "Dep_hour\n"
          ],
          "name": "stdout"
        },
        {
          "output_type": "stream",
          "text": [
            "/usr/local/lib/python3.7/dist-packages/seaborn/_decorators.py:43: FutureWarning: Pass the following variable as a keyword arg: x. From version 0.12, the only valid positional argument will be `data`, and passing other arguments without an explicit keyword will result in an error or misinterpretation.\n",
            "  FutureWarning\n"
          ],
          "name": "stderr"
        },
        {
          "output_type": "display_data",
          "data": {
            "image/png": "[encoded data removed]",
            "text/plain": [
              "<Figure size 1080x216 with 3 Axes>"
            ]
          },
          "metadata": {
            "tags": [],
            "needs_background": "light"
          }
        },
        {
          "output_type": "stream",
          "text": [
            "Dep_min\n"
          ],
          "name": "stdout"
        },
        {
          "output_type": "stream",
          "text": [
            "/usr/local/lib/python3.7/dist-packages/seaborn/_decorators.py:43: FutureWarning: Pass the following variable as a keyword arg: x. From version 0.12, the only valid positional argument will be `data`, and passing other arguments without an explicit keyword will result in an error or misinterpretation.\n",
            "  FutureWarning\n"
          ],
          "name": "stderr"
        },
        {
          "output_type": "display_data",
          "data": {
            "image/png": "[encoded data removed]",
            "text/plain": [
              "<Figure size 1080x216 with 3 Axes>"
            ]
          },
          "metadata": {
            "tags": [],
            "needs_background": "light"
          }
        },
        {
          "output_type": "stream",
          "text": [
            "Duration_mins\n"
          ],
          "name": "stdout"
        },
        {
          "output_type": "stream",
          "text": [
            "/usr/local/lib/python3.7/dist-packages/seaborn/_decorators.py:43: FutureWarning: Pass the following variable as a keyword arg: x. From version 0.12, the only valid positional argument will be `data`, and passing other arguments without an explicit keyword will result in an error or misinterpretation.\n",
            "  FutureWarning\n"
          ],
          "name": "stderr"
        },
        {
          "output_type": "display_data",
          "data": {
            "image/png": "[encoded data removed]",
            "text/plain": [
              "<Figure size 1080x216 with 3 Axes>"
            ]
          },
          "metadata": {
            "tags": [],
            "needs_background": "light"
          }
        }
      ]
    },
    {
      "cell_type": "code",
      "metadata": {
        "id": "GKHjcVZkZtwD"
      },
      "source": [
        "from sklearn.preprocessing import StandardScaler\n",
        "scaler = StandardScaler()\n",
        "scale_cols = [\"Duration_mins\" , \"day\" , \"Month\" , \"Dep_hour\" , \"Dep_min\" , \"Arrival_hour\" , \"Arrival_min\"]\n",
        "\n",
        "X_train[scale_cols] = scaler.fit_transform(X_train[scale_cols])\n",
        "X_test[scale_cols] = scaler.transform(X_test[scale_cols])"
      ],
      "execution_count": 195,
      "outputs": []
    },
    {
      "cell_type": "markdown",
      "metadata": {
        "id": "6gXOB1KsaRm_"
      },
      "source": [
        "# **Model Implementation**"
      ]
    },
    {
      "cell_type": "code",
      "metadata": {
        "id": "hxqSIzBfZt4-"
      },
      "source": [
        "from sklearn.ensemble import RandomForestRegressor\n",
        "rf = RandomForestRegressor()"
      ],
      "execution_count": 196,
      "outputs": []
    },
    {
      "cell_type": "code",
      "metadata": {
        "id": "n_GK00lmZt8f"
      },
      "source": [
        "from sklearn.model_selection import RandomizedSearchCV\n",
        "#Randomized Search CV\n",
        "\n",
        "# Number of trees in random forest\n",
        "n_estimators = [int(x) for x in np.linspace(start = 100, stop = 1200, num = 12)]\n",
        "# Number of features to consider at every split\n",
        "max_features = ['auto', 'sqrt']\n",
        "# Maximum number of levels in tree\n",
        "max_depth = [int(x) for x in np.linspace(5, 30, num = 6)]\n",
        "# max_depth.append(None)\n",
        "# Minimum number of samples required to split a node\n",
        "min_samples_split = [2, 5, 10, 15, 100]\n",
        "# Minimum number of samples required at each leaf node\n",
        "min_samples_leaf = [1, 2, 5, 10]"
      ],
      "execution_count": 197,
      "outputs": []
    },
    {
      "cell_type": "code",
      "metadata": {
        "colab": {
          "base_uri": "https://localhost:8080/"
        },
        "id": "zl5ZjpkGadRb",
        "outputId": "b601ed7e-18e9-4932-b0f6-ebc24bfb0dd5"
      },
      "source": [
        "random_grid = {'n_estimators': n_estimators,\n",
        "               'max_features': max_features,\n",
        "               'max_depth': max_depth,\n",
        "               'min_samples_split': min_samples_split,\n",
        "               'min_samples_leaf': min_samples_leaf}\n",
        "\n",
        "print(random_grid)"
      ],
      "execution_count": 198,
      "outputs": [
        {
          "output_type": "stream",
          "text": [
            "{'n_estimators': [100, 200, 300, 400, 500, 600, 700, 800, 900, 1000, 1100, 1200], 'max_features': ['auto', 'sqrt'], 'max_depth': [5, 10, 15, 20, 25, 30], 'min_samples_split': [2, 5, 10, 15, 100], 'min_samples_leaf': [1, 2, 5, 10]}\n"
          ],
          "name": "stdout"
        }
      ]
    },
    {
      "cell_type": "code",
      "metadata": {
        "id": "hWPqOygEagMz"
      },
      "source": [
        "rf_random = RandomizedSearchCV(estimator = rf, param_distributions = random_grid,scoring='neg_mean_squared_error', n_iter = 50, cv = 5, verbose=2, random_state=42, n_jobs = 1)"
      ],
      "execution_count": 199,
      "outputs": []
    },
    {
      "cell_type": "code",
      "metadata": {
        "id": "JorzCjT1aiKv"
      },
      "source": [
        "rf_random.fit(X_train,y_train)"
      ],
      "execution_count": null,
      "outputs": []
    },
    {
      "cell_type": "code",
      "metadata": {
        "id": "DxFCEHkFanKA"
      },
      "source": [
        "y_pred=rf_random.predict(X_test)"
      ],
      "execution_count": 155,
      "outputs": []
    },
    {
      "cell_type": "code",
      "metadata": {
        "colab": {
          "base_uri": "https://localhost:8080/"
        },
        "id": "lUaQU779goG-",
        "outputId": "e96a448e-e715-48f6-d9fc-16a8514bd153"
      },
      "source": [
        "X_train.columns"
      ],
      "execution_count": 156,
      "outputs": [
        {
          "output_type": "execute_result",
          "data": {
            "text/plain": [
              "Index(['Airline', 'Source', 'Destination', 'Date', 'Month', 'day', 'Stop',\n",
              "       'Route_1', 'Route_2', 'Route_3', 'Route_4', 'Route_5', 'Arrival_hour',\n",
              "       'Arrival_min', 'Dep_hour', 'Dep_min', 'Duration_mins',\n",
              "       'Dep_Part_of_day', 'Arrival_Part_of_day'],\n",
              "      dtype='object')"
            ]
          },
          "metadata": {
            "tags": []
          },
          "execution_count": 156
        }
      ]
    },
    {
      "cell_type": "code",
      "metadata": {
        "colab": {
          "base_uri": "https://localhost:8080/"
        },
        "id": "t4WHjSyMgiPY",
        "outputId": "56f6a74e-dee8-4735-85ea-1021b9994441"
      },
      "source": [
        "print(rf_random.best_params_)\n",
        "predictions=rf_random.predict(X_test)"
      ],
      "execution_count": 157,
      "outputs": [
        {
          "output_type": "stream",
          "text": [
            "{'n_estimators': 900, 'min_samples_split': 10, 'min_samples_leaf': 1, 'max_features': 'auto', 'max_depth': 25}\n",
            "-3718177.299973616\n"
          ],
          "name": "stdout"
        }
      ]
    },
    {
      "cell_type": "code",
      "metadata": {
        "colab": {
          "base_uri": "https://localhost:8080/",
          "height": 350
        },
        "id": "86QmB961aopn",
        "outputId": "f0502392-fe5c-42e2-db36-48733cae7d93"
      },
      "source": [
        "import seaborn as sns\n",
        "sns.distplot(y_test-y_pred)"
      ],
      "execution_count": 158,
      "outputs": [
        {
          "output_type": "stream",
          "text": [
            "/usr/local/lib/python3.7/dist-packages/seaborn/distributions.py:2557: FutureWarning: `distplot` is a deprecated function and will be removed in a future version. Please adapt your code to use either `displot` (a figure-level function with similar flexibility) or `histplot` (an axes-level function for histograms).\n",
            "  warnings.warn(msg, FutureWarning)\n"
          ],
          "name": "stderr"
        },
        {
          "output_type": "execute_result",
          "data": {
            "text/plain": [
              "<matplotlib.axes._subplots.AxesSubplot at 0x7f1c124b1c10>"
            ]
          },
          "metadata": {
            "tags": []
          },
          "execution_count": 158
        },
        {
          "output_type": "display_data",
          "data": {
            "image/png": "[encoded data removed]",
            "text/plain": [
              "<Figure size 432x288 with 1 Axes>"
            ]
          },
          "metadata": {
            "tags": [],
            "needs_background": "light"
          }
        }
      ]
    },
    {
      "cell_type": "code",
      "metadata": {
        "id": "gNDtSc3SavH7"
      },
      "source": [
        "from sklearn import metrics\n",
        "print('MAE:', metrics.mean_absolute_error(y_test, predictions))\n",
        "print('MSE:', metrics.mean_squared_error(y_test, predictions)) \n",
        "print('RMSE:', np.sqrt(metrics.mean_squared_error(y_test, predictions))) "
      ],
      "execution_count": null,
      "outputs": []
    },
    {
      "cell_type": "code",
      "metadata": {
        "id": "2RTbcrWSbFKr"
      },
      "source": [
        "r2score     = metrics.r2_score(y_test,predictions) "
      ],
      "execution_count": 166,
      "outputs": []
    },
    {
      "cell_type": "code",
      "metadata": {
        "colab": {
          "base_uri": "https://localhost:8080/"
        },
        "id": "2R0E-qL6offF",
        "outputId": "e995fec0-09a3-43c1-98d3-71e43ee0df2a"
      },
      "source": [
        "data_test.drop(['Year' 'Dep_Part_of_day', 'Arrival_Part_of_day'], axis = 1,  inplace=True)"
      ],
      "execution_count": 170,
      "outputs": [
        {
          "output_type": "stream",
          "text": [
            "/usr/local/lib/python3.7/dist-packages/pandas/core/frame.py:4174: SettingWithCopyWarning: \n",
            "A value is trying to be set on a copy of a slice from a DataFrame\n",
            "\n",
            "See the caveats in the documentation: https://pandas.pydata.org/pandas-docs/stable/user_guide/indexing.html#returning-a-view-versus-a-copy\n",
            "  errors=errors,\n"
          ],
          "name": "stderr"
        }
      ]
    },
    {
      "cell_type": "code",
      "metadata": {
        "colab": {
          "base_uri": "https://localhost:8080/"
        },
        "id": "WP-dkM1Vonr1",
        "outputId": "89ff71f1-9362-44d7-eec9-5fb7514ee1c9"
      },
      "source": [
        "data_test.info()"
      ],
      "execution_count": 175,
      "outputs": [
        {
          "output_type": "stream",
          "text": [
            "<class 'pandas.core.frame.DataFrame'>\n",
            "Int64Index: 2671 entries, 0 to 2670\n",
            "Data columns (total 20 columns):\n",
            " #   Column               Non-Null Count  Dtype  \n",
            "---  ------               --------------  -----  \n",
            " 0   Airline              2671 non-null   int64  \n",
            " 1   Source               2671 non-null   int64  \n",
            " 2   Destination          2671 non-null   int64  \n",
            " 3   Price                0 non-null      float64\n",
            " 4   Date                 2671 non-null   int64  \n",
            " 5   Month                2671 non-null   int64  \n",
            " 6   day                  2671 non-null   int64  \n",
            " 7   Stop                 2671 non-null   int64  \n",
            " 8   Route_1              2671 non-null   int64  \n",
            " 9   Route_2              2671 non-null   int64  \n",
            " 10  Route_3              2671 non-null   int64  \n",
            " 11  Route_4              2671 non-null   int64  \n",
            " 12  Route_5              2671 non-null   int64  \n",
            " 13  Arrival_hour         2671 non-null   int64  \n",
            " 14  Arrival_min          2671 non-null   int64  \n",
            " 15  Dep_hour             2671 non-null   int64  \n",
            " 16  Dep_min              2671 non-null   int64  \n",
            " 17  Duration_mins        2671 non-null   int64  \n",
            " 18  Dep_Part_of_day      2671 non-null   int64  \n",
            " 19  Arrival_Part_of_day  2671 non-null   int64  \n",
            "dtypes: float64(1), int64(19)\n",
            "memory usage: 518.2 KB\n"
          ],
          "name": "stdout"
        }
      ]
    },
    {
      "cell_type": "code",
      "metadata": {
        "colab": {
          "base_uri": "https://localhost:8080/"
        },
        "id": "Js5jZB92oqqf",
        "outputId": "35b94fc6-069d-4ac0-e724-0528d40c2791"
      },
      "source": [
        "X_train.columns"
      ],
      "execution_count": 173,
      "outputs": [
        {
          "output_type": "execute_result",
          "data": {
            "text/plain": [
              "Index(['Airline', 'Source', 'Destination', 'Date', 'Month', 'day', 'Stop',\n",
              "       'Route_1', 'Route_2', 'Route_3', 'Route_4', 'Route_5', 'Arrival_hour',\n",
              "       'Arrival_min', 'Dep_hour', 'Dep_min', 'Duration_mins',\n",
              "       'Dep_Part_of_day', 'Arrival_Part_of_day'],\n",
              "      dtype='object')"
            ]
          },
          "metadata": {
            "tags": []
          },
          "execution_count": 173
        }
      ]
    },
    {
      "cell_type": "code",
      "metadata": {
        "id": "rox10bZ-n1Ii"
      },
      "source": [
        "y_pred_oroginal = rf_random.predict(data_test.drop(['Price'], axis = 1))"
      ],
      "execution_count": 184,
      "outputs": []
    },
    {
      "cell_type": "code",
      "metadata": {
        "id": "oMqas5UKn1VD"
      },
      "source": [
        "y_test_origin = data_test['Price'].fillna(data['Price'].mean(), inplace = True)"
      ],
      "execution_count": null,
      "outputs": []
    },
    {
      "cell_type": "code",
      "metadata": {
        "colab": {
          "base_uri": "https://localhost:8080/"
        },
        "id": "zZVzv6jDpBVl",
        "outputId": "e7c9e2a1-508a-4f40-fcf6-c218307a428b"
      },
      "source": [
        "y_pred_oroginal"
      ],
      "execution_count": 187,
      "outputs": [
        {
          "output_type": "execute_result",
          "data": {
            "text/plain": [
              "array([11722.16219348,  7158.76262812, 14311.9072337 , ...,\n",
              "       15633.5633274 , 14031.43378754,  8208.02901473])"
            ]
          },
          "metadata": {
            "tags": []
          },
          "execution_count": 187
        }
      ]
    },
    {
      "cell_type": "code",
      "metadata": {
        "id": "z-P1FMM0pmH1"
      },
      "source": [
        "##Create Sample Submission file and Submit using ANN\n",
        "pred=pd.DataFrame(y_pred_oroginal)\n",
        "sub_df=pd.read_excel('/content/drive/MyDrive/Flight-Price-Prediction/Sample_submission.xlsx')\n",
        "datasets=pd.concat([pred],axis=1)\n",
        "datasets.columns=['Price']\n",
        "datasets.to_excel('/content/drive/MyDrive/Flight-Price-Prediction/Sample_submission.xlsx',index=False)"
      ],
      "execution_count": 188,
      "outputs": []
    }
  ]
}