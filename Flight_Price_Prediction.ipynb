{
  "nbformat": 4,
  "nbformat_minor": 0,
  "metadata": {
    "colab": {
      "name": "Flight-Price-Prediction.ipynb",
      "provenance": [],
      "collapsed_sections": [
        "U4x0Kt_EWDJz"
      ]
    },
    "kernelspec": {
      "name": "python3",
      "display_name": "Python 3"
    },
    "language_info": {
      "name": "python"
    }
  },
  "cells": [
    {
      "cell_type": "code",
      "metadata": {
        "id": "DpAiN6bZnLbj"
      },
      "source": [
        "# import os\n",
        "# os.environ['KAGGLE_CONFIG_DIR'] = \"/content/drive/MyDrive/Kaggle\"\n",
        "# %cd /content/drive/MyDrive/Flight-Price-Prediction\n",
        "# !kaggle datasets download -d nikhilmittal/flight-fare-prediction-mh\n",
        "# #unzipping the zip files and deleting the zip files\n",
        "# !unzip \\*.zip  && rm *.zipy"
      ],
      "execution_count": 54,
      "outputs": []
    },
    {
      "cell_type": "code",
      "metadata": {
        "id": "AryC9JWHs6WT"
      },
      "source": [
        ""
      ],
      "execution_count": 54,
      "outputs": []
    },
    {
      "cell_type": "code",
      "metadata": {
        "id": "6_99VeDymSKe"
      },
      "source": [
        "import pandas as pd \n",
        "import numpy as np\n",
        "import matplotlib.pyplot as plt\n",
        "import seaborn as sns\n",
        "from tensorflow.keras import layers\n",
        "import scipy.stats as stat\n",
        "import pylab"
      ],
      "execution_count": 363,
      "outputs": []
    },
    {
      "cell_type": "code",
      "metadata": {
        "id": "cQ_CNgcxnm06"
      },
      "source": [
        "train_dataset = pd.read_excel(\"/content/drive/MyDrive/Flight-Price-Prediction/Data_Train.xlsx\")\n",
        "test_dataset = pd.read_excel(\"/content/drive/MyDrive/Flight-Price-Prediction/Test_set.xlsx\")"
      ],
      "execution_count": 364,
      "outputs": []
    },
    {
      "cell_type": "code",
      "metadata": {
        "colab": {
          "base_uri": "https://localhost:8080/",
          "height": 111
        },
        "id": "6rDrhcn-n8ns",
        "outputId": "833773e9-69a5-400d-eb5c-3be0499486a0"
      },
      "source": [
        "train_dataset.head(2)"
      ],
      "execution_count": 257,
      "outputs": [
        {
          "output_type": "execute_result",
          "data": {
            "text/html": [
              "<div>\n",
              "<style scoped>\n",
              "    .dataframe tbody tr th:only-of-type {\n",
              "        vertical-align: middle;\n",
              "    }\n",
              "\n",
              "    .dataframe tbody tr th {\n",
              "        vertical-align: top;\n",
              "    }\n",
              "\n",
              "    .dataframe thead th {\n",
              "        text-align: right;\n",
              "    }\n",
              "</style>\n",
              "<table border=\"1\" class=\"dataframe\">\n",
              "  <thead>\n",
              "    <tr style=\"text-align: right;\">\n",
              "      <th></th>\n",
              "      <th>Airline</th>\n",
              "      <th>Date_of_Journey</th>\n",
              "      <th>Source</th>\n",
              "      <th>Destination</th>\n",
              "      <th>Route</th>\n",
              "      <th>Dep_Time</th>\n",
              "      <th>Arrival_Time</th>\n",
              "      <th>Duration</th>\n",
              "      <th>Total_Stops</th>\n",
              "      <th>Additional_Info</th>\n",
              "      <th>Price</th>\n",
              "    </tr>\n",
              "  </thead>\n",
              "  <tbody>\n",
              "    <tr>\n",
              "      <th>0</th>\n",
              "      <td>IndiGo</td>\n",
              "      <td>24/03/2019</td>\n",
              "      <td>Banglore</td>\n",
              "      <td>New Delhi</td>\n",
              "      <td>BLR → DEL</td>\n",
              "      <td>22:20</td>\n",
              "      <td>01:10 22 Mar</td>\n",
              "      <td>2h 50m</td>\n",
              "      <td>non-stop</td>\n",
              "      <td>No info</td>\n",
              "      <td>3897</td>\n",
              "    </tr>\n",
              "    <tr>\n",
              "      <th>1</th>\n",
              "      <td>Air India</td>\n",
              "      <td>1/05/2019</td>\n",
              "      <td>Kolkata</td>\n",
              "      <td>Banglore</td>\n",
              "      <td>CCU → IXR → BBI → BLR</td>\n",
              "      <td>05:50</td>\n",
              "      <td>13:15</td>\n",
              "      <td>7h 25m</td>\n",
              "      <td>2 stops</td>\n",
              "      <td>No info</td>\n",
              "      <td>7662</td>\n",
              "    </tr>\n",
              "  </tbody>\n",
              "</table>\n",
              "</div>"
            ],
            "text/plain": [
              "     Airline Date_of_Journey    Source  ... Total_Stops Additional_Info Price\n",
              "0     IndiGo      24/03/2019  Banglore  ...    non-stop         No info  3897\n",
              "1  Air India       1/05/2019   Kolkata  ...     2 stops         No info  7662\n",
              "\n",
              "[2 rows x 11 columns]"
            ]
          },
          "metadata": {
            "tags": []
          },
          "execution_count": 257
        }
      ]
    },
    {
      "cell_type": "code",
      "metadata": {
        "colab": {
          "base_uri": "https://localhost:8080/"
        },
        "id": "z_UUDq0LoXwL",
        "outputId": "6f6e0956-ceeb-44bf-8672-b12854ffeb3a"
      },
      "source": [
        "train_dataset.shape"
      ],
      "execution_count": 258,
      "outputs": [
        {
          "output_type": "execute_result",
          "data": {
            "text/plain": [
              "(10683, 11)"
            ]
          },
          "metadata": {
            "tags": []
          },
          "execution_count": 258
        }
      ]
    },
    {
      "cell_type": "code",
      "metadata": {
        "colab": {
          "base_uri": "https://localhost:8080/",
          "height": 297
        },
        "id": "U6ElJSj2oaLr",
        "outputId": "5ddd3659-6b4e-4433-89b8-679e9123e710"
      },
      "source": [
        "train_dataset.describe()"
      ],
      "execution_count": 259,
      "outputs": [
        {
          "output_type": "execute_result",
          "data": {
            "text/html": [
              "<div>\n",
              "<style scoped>\n",
              "    .dataframe tbody tr th:only-of-type {\n",
              "        vertical-align: middle;\n",
              "    }\n",
              "\n",
              "    .dataframe tbody tr th {\n",
              "        vertical-align: top;\n",
              "    }\n",
              "\n",
              "    .dataframe thead th {\n",
              "        text-align: right;\n",
              "    }\n",
              "</style>\n",
              "<table border=\"1\" class=\"dataframe\">\n",
              "  <thead>\n",
              "    <tr style=\"text-align: right;\">\n",
              "      <th></th>\n",
              "      <th>Price</th>\n",
              "    </tr>\n",
              "  </thead>\n",
              "  <tbody>\n",
              "    <tr>\n",
              "      <th>count</th>\n",
              "      <td>10683.000000</td>\n",
              "    </tr>\n",
              "    <tr>\n",
              "      <th>mean</th>\n",
              "      <td>9087.064121</td>\n",
              "    </tr>\n",
              "    <tr>\n",
              "      <th>std</th>\n",
              "      <td>4611.359167</td>\n",
              "    </tr>\n",
              "    <tr>\n",
              "      <th>min</th>\n",
              "      <td>1759.000000</td>\n",
              "    </tr>\n",
              "    <tr>\n",
              "      <th>25%</th>\n",
              "      <td>5277.000000</td>\n",
              "    </tr>\n",
              "    <tr>\n",
              "      <th>50%</th>\n",
              "      <td>8372.000000</td>\n",
              "    </tr>\n",
              "    <tr>\n",
              "      <th>75%</th>\n",
              "      <td>12373.000000</td>\n",
              "    </tr>\n",
              "    <tr>\n",
              "      <th>max</th>\n",
              "      <td>79512.000000</td>\n",
              "    </tr>\n",
              "  </tbody>\n",
              "</table>\n",
              "</div>"
            ],
            "text/plain": [
              "              Price\n",
              "count  10683.000000\n",
              "mean    9087.064121\n",
              "std     4611.359167\n",
              "min     1759.000000\n",
              "25%     5277.000000\n",
              "50%     8372.000000\n",
              "75%    12373.000000\n",
              "max    79512.000000"
            ]
          },
          "metadata": {
            "tags": []
          },
          "execution_count": 259
        }
      ]
    },
    {
      "cell_type": "code",
      "metadata": {
        "colab": {
          "base_uri": "https://localhost:8080/"
        },
        "id": "BsjXTWB_oosz",
        "outputId": "1bb5e2f9-e927-404b-dd98-4564859b1de9"
      },
      "source": [
        "train_dataset.info()"
      ],
      "execution_count": 60,
      "outputs": [
        {
          "output_type": "stream",
          "text": [
            "<class 'pandas.core.frame.DataFrame'>\n",
            "RangeIndex: 10683 entries, 0 to 10682\n",
            "Data columns (total 11 columns):\n",
            " #   Column           Non-Null Count  Dtype \n",
            "---  ------           --------------  ----- \n",
            " 0   Airline          10683 non-null  object\n",
            " 1   Date_of_Journey  10683 non-null  object\n",
            " 2   Source           10683 non-null  object\n",
            " 3   Destination      10683 non-null  object\n",
            " 4   Route            10682 non-null  object\n",
            " 5   Dep_Time         10683 non-null  object\n",
            " 6   Arrival_Time     10683 non-null  object\n",
            " 7   Duration         10683 non-null  object\n",
            " 8   Total_Stops      10682 non-null  object\n",
            " 9   Additional_Info  10683 non-null  object\n",
            " 10  Price            10683 non-null  int64 \n",
            "dtypes: int64(1), object(10)\n",
            "memory usage: 918.2+ KB\n"
          ],
          "name": "stdout"
        }
      ]
    },
    {
      "cell_type": "code",
      "metadata": {
        "colab": {
          "base_uri": "https://localhost:8080/"
        },
        "id": "Oj0sfQDwot0S",
        "outputId": "cf8a453d-ec1d-4143-dea5-21de7d8e0715"
      },
      "source": [
        "train_dataset.isnull().sum()"
      ],
      "execution_count": 61,
      "outputs": [
        {
          "output_type": "execute_result",
          "data": {
            "text/plain": [
              "Airline            0\n",
              "Date_of_Journey    0\n",
              "Source             0\n",
              "Destination        0\n",
              "Route              1\n",
              "Dep_Time           0\n",
              "Arrival_Time       0\n",
              "Duration           0\n",
              "Total_Stops        1\n",
              "Additional_Info    0\n",
              "Price              0\n",
              "dtype: int64"
            ]
          },
          "metadata": {
            "tags": []
          },
          "execution_count": 61
        }
      ]
    },
    {
      "cell_type": "code",
      "metadata": {
        "colab": {
          "base_uri": "https://localhost:8080/"
        },
        "id": "1TGuv59boxFx",
        "outputId": "d08e3f1b-a9d6-49e6-dafe-076008145f4a"
      },
      "source": [
        "test_dataset.shape"
      ],
      "execution_count": 62,
      "outputs": [
        {
          "output_type": "execute_result",
          "data": {
            "text/plain": [
              "(2671, 10)"
            ]
          },
          "metadata": {
            "tags": []
          },
          "execution_count": 62
        }
      ]
    },
    {
      "cell_type": "code",
      "metadata": {
        "colab": {
          "base_uri": "https://localhost:8080/"
        },
        "id": "g2Spi6Lgo1o6",
        "outputId": "ac57395d-40cb-4fbb-8c77-8420a126b21b"
      },
      "source": [
        "test_dataset.info()"
      ],
      "execution_count": 63,
      "outputs": [
        {
          "output_type": "stream",
          "text": [
            "<class 'pandas.core.frame.DataFrame'>\n",
            "RangeIndex: 2671 entries, 0 to 2670\n",
            "Data columns (total 10 columns):\n",
            " #   Column           Non-Null Count  Dtype \n",
            "---  ------           --------------  ----- \n",
            " 0   Airline          2671 non-null   object\n",
            " 1   Date_of_Journey  2671 non-null   object\n",
            " 2   Source           2671 non-null   object\n",
            " 3   Destination      2671 non-null   object\n",
            " 4   Route            2671 non-null   object\n",
            " 5   Dep_Time         2671 non-null   object\n",
            " 6   Arrival_Time     2671 non-null   object\n",
            " 7   Duration         2671 non-null   object\n",
            " 8   Total_Stops      2671 non-null   object\n",
            " 9   Additional_Info  2671 non-null   object\n",
            "dtypes: object(10)\n",
            "memory usage: 208.8+ KB\n"
          ],
          "name": "stdout"
        }
      ]
    },
    {
      "cell_type": "code",
      "metadata": {
        "colab": {
          "base_uri": "https://localhost:8080/"
        },
        "id": "MC3lrk6Uo43y",
        "outputId": "a0ea180b-88b3-4d97-b998-f987a83352c0"
      },
      "source": [
        "test_dataset.isnull().sum()"
      ],
      "execution_count": 64,
      "outputs": [
        {
          "output_type": "execute_result",
          "data": {
            "text/plain": [
              "Airline            0\n",
              "Date_of_Journey    0\n",
              "Source             0\n",
              "Destination        0\n",
              "Route              0\n",
              "Dep_Time           0\n",
              "Arrival_Time       0\n",
              "Duration           0\n",
              "Total_Stops        0\n",
              "Additional_Info    0\n",
              "dtype: int64"
            ]
          },
          "metadata": {
            "tags": []
          },
          "execution_count": 64
        }
      ]
    },
    {
      "cell_type": "markdown",
      "metadata": {
        "id": "xmbtt09Uo_cU"
      },
      "source": [
        "# **Data Preprocessing**"
      ]
    },
    {
      "cell_type": "code",
      "metadata": {
        "id": "gRp4NRYHo-Ya"
      },
      "source": [
        "dataset = train_dataset.append(test_dataset,sort=False)"
      ],
      "execution_count": 365,
      "outputs": []
    },
    {
      "cell_type": "code",
      "metadata": {
        "colab": {
          "base_uri": "https://localhost:8080/"
        },
        "id": "zzq3PiL_p6Xr",
        "outputId": "c58e9b45-d5d0-48a9-f354-52d1c189f834"
      },
      "source": [
        "dataset.shape"
      ],
      "execution_count": 267,
      "outputs": [
        {
          "output_type": "execute_result",
          "data": {
            "text/plain": [
              "(13354, 11)"
            ]
          },
          "metadata": {
            "tags": []
          },
          "execution_count": 267
        }
      ]
    },
    {
      "cell_type": "code",
      "metadata": {
        "colab": {
          "base_uri": "https://localhost:8080/"
        },
        "id": "TXx58SvIqA3j",
        "outputId": "c0ed143d-53ea-4d17-ea81-76e7ffab86f4"
      },
      "source": [
        "dataset.isnull().sum()"
      ],
      "execution_count": 67,
      "outputs": [
        {
          "output_type": "execute_result",
          "data": {
            "text/plain": [
              "Airline               0\n",
              "Date_of_Journey       0\n",
              "Source                0\n",
              "Destination           0\n",
              "Route                 1\n",
              "Dep_Time              0\n",
              "Arrival_Time          0\n",
              "Duration              0\n",
              "Total_Stops           1\n",
              "Additional_Info       0\n",
              "Price              2671\n",
              "dtype: int64"
            ]
          },
          "metadata": {
            "tags": []
          },
          "execution_count": 67
        }
      ]
    },
    {
      "cell_type": "code",
      "metadata": {
        "colab": {
          "base_uri": "https://localhost:8080/"
        },
        "id": "QJdVdRWbri6j",
        "outputId": "8b20dd24-2b5b-4f91-86f6-da61b3829002"
      },
      "source": [
        "dataset.isnull().sum()"
      ],
      "execution_count": 71,
      "outputs": [
        {
          "output_type": "execute_result",
          "data": {
            "text/plain": [
              "Airline               0\n",
              "Date_of_Journey       0\n",
              "Source                0\n",
              "Destination           0\n",
              "Route                 1\n",
              "Dep_Time              0\n",
              "Arrival_Time          0\n",
              "Duration              0\n",
              "Total_Stops           1\n",
              "Additional_Info       0\n",
              "Price              2671\n",
              "dtype: int64"
            ]
          },
          "metadata": {
            "tags": []
          },
          "execution_count": 71
        }
      ]
    },
    {
      "cell_type": "code",
      "metadata": {
        "colab": {
          "base_uri": "https://localhost:8080/",
          "height": 80
        },
        "id": "J6u8YF8gtfjT",
        "outputId": "ae75091c-6596-4215-a880-f555da15d0d9"
      },
      "source": [
        "dataset[dataset['Total_Stops'].isnull()]"
      ],
      "execution_count": 72,
      "outputs": [
        {
          "output_type": "execute_result",
          "data": {
            "text/html": [
              "<div>\n",
              "<style scoped>\n",
              "    .dataframe tbody tr th:only-of-type {\n",
              "        vertical-align: middle;\n",
              "    }\n",
              "\n",
              "    .dataframe tbody tr th {\n",
              "        vertical-align: top;\n",
              "    }\n",
              "\n",
              "    .dataframe thead th {\n",
              "        text-align: right;\n",
              "    }\n",
              "</style>\n",
              "<table border=\"1\" class=\"dataframe\">\n",
              "  <thead>\n",
              "    <tr style=\"text-align: right;\">\n",
              "      <th></th>\n",
              "      <th>Airline</th>\n",
              "      <th>Date_of_Journey</th>\n",
              "      <th>Source</th>\n",
              "      <th>Destination</th>\n",
              "      <th>Route</th>\n",
              "      <th>Dep_Time</th>\n",
              "      <th>Arrival_Time</th>\n",
              "      <th>Duration</th>\n",
              "      <th>Total_Stops</th>\n",
              "      <th>Additional_Info</th>\n",
              "      <th>Price</th>\n",
              "    </tr>\n",
              "  </thead>\n",
              "  <tbody>\n",
              "    <tr>\n",
              "      <th>9039</th>\n",
              "      <td>Air India</td>\n",
              "      <td>6/05/2019</td>\n",
              "      <td>Delhi</td>\n",
              "      <td>Cochin</td>\n",
              "      <td>NaN</td>\n",
              "      <td>09:45</td>\n",
              "      <td>09:25 07 May</td>\n",
              "      <td>23h 40m</td>\n",
              "      <td>NaN</td>\n",
              "      <td>No info</td>\n",
              "      <td>7480.0</td>\n",
              "    </tr>\n",
              "  </tbody>\n",
              "</table>\n",
              "</div>"
            ],
            "text/plain": [
              "        Airline Date_of_Journey Source  ... Total_Stops Additional_Info   Price\n",
              "9039  Air India       6/05/2019  Delhi  ...         NaN         No info  7480.0\n",
              "\n",
              "[1 rows x 11 columns]"
            ]
          },
          "metadata": {
            "tags": []
          },
          "execution_count": 72
        }
      ]
    },
    {
      "cell_type": "code",
      "metadata": {
        "id": "QPPY9H7Xt2VL"
      },
      "source": [
        "data =  dataset[dataset.Airline == \"Air India\"]"
      ],
      "execution_count": 343,
      "outputs": []
    },
    {
      "cell_type": "code",
      "metadata": {
        "colab": {
          "base_uri": "https://localhost:8080/"
        },
        "id": "bS3Y9y7z1lK6",
        "outputId": "0e5c498c-bf8f-4238-fbc7-264881aa8e91"
      },
      "source": [
        "data.columns"
      ],
      "execution_count": 344,
      "outputs": [
        {
          "output_type": "execute_result",
          "data": {
            "text/plain": [
              "Index(['Airline', 'Date_of_Journey', 'Source', 'Destination', 'Route',\n",
              "       'Dep_Time', 'Arrival_Time', 'Duration', 'Total_Stops',\n",
              "       'Additional_Info', 'Price'],\n",
              "      dtype='object')"
            ]
          },
          "metadata": {
            "tags": []
          },
          "execution_count": 344
        }
      ]
    },
    {
      "cell_type": "code",
      "metadata": {
        "colab": {
          "base_uri": "https://localhost:8080/"
        },
        "id": "d8qnIrly08FZ",
        "outputId": "d91bc243-06fa-432e-b265-d427aadc642c"
      },
      "source": [
        "data.Airline.value_counts()"
      ],
      "execution_count": 193,
      "outputs": [
        {
          "output_type": "execute_result",
          "data": {
            "text/plain": [
              "Air India    2192\n",
              "Name: Airline, dtype: int64"
            ]
          },
          "metadata": {
            "tags": []
          },
          "execution_count": 193
        }
      ]
    },
    {
      "cell_type": "code",
      "metadata": {
        "id": "9nPSS3pM15EK"
      },
      "source": [
        "filter1 = data.Source == \"Delhi\"\n",
        "filter2 = data.Destination == \"Cochin\"\n",
        "data1 = data[filter1 & filter2]"
      ],
      "execution_count": 345,
      "outputs": []
    },
    {
      "cell_type": "code",
      "metadata": {
        "id": "QLwXZoQCzjOq"
      },
      "source": [
        "import datetime \n",
        "day_name= ['Monday', 'Tuesday', 'Wednesday', 'Thursday', 'Friday', 'Saturday','Sunday']\n",
        "data1[\"day\"] = data1.Date_of_Journey.apply(lambda x : day_name[datetime.datetime.strptime(x, '%d/%m/%Y').weekday()])"
      ],
      "execution_count": 212,
      "outputs": []
    },
    {
      "cell_type": "code",
      "metadata": {
        "colab": {
          "base_uri": "https://localhost:8080/",
          "height": 80
        },
        "id": "-l2jaoaR2ghJ",
        "outputId": "b35e3834-ca01-4335-dab9-7866a8be677a"
      },
      "source": [
        "data1[data1['Total_Stops'].isnull()]"
      ],
      "execution_count": 213,
      "outputs": [
        {
          "output_type": "execute_result",
          "data": {
            "text/html": [
              "<div>\n",
              "<style scoped>\n",
              "    .dataframe tbody tr th:only-of-type {\n",
              "        vertical-align: middle;\n",
              "    }\n",
              "\n",
              "    .dataframe tbody tr th {\n",
              "        vertical-align: top;\n",
              "    }\n",
              "\n",
              "    .dataframe thead th {\n",
              "        text-align: right;\n",
              "    }\n",
              "</style>\n",
              "<table border=\"1\" class=\"dataframe\">\n",
              "  <thead>\n",
              "    <tr style=\"text-align: right;\">\n",
              "      <th></th>\n",
              "      <th>Airline</th>\n",
              "      <th>Date_of_Journey</th>\n",
              "      <th>Source</th>\n",
              "      <th>Destination</th>\n",
              "      <th>Route</th>\n",
              "      <th>Dep_Time</th>\n",
              "      <th>Arrival_Time</th>\n",
              "      <th>Duration</th>\n",
              "      <th>Total_Stops</th>\n",
              "      <th>Additional_Info</th>\n",
              "      <th>Price</th>\n",
              "      <th>day</th>\n",
              "    </tr>\n",
              "  </thead>\n",
              "  <tbody>\n",
              "    <tr>\n",
              "      <th>9039</th>\n",
              "      <td>Air India</td>\n",
              "      <td>6/05/2019</td>\n",
              "      <td>Delhi</td>\n",
              "      <td>Cochin</td>\n",
              "      <td>NaN</td>\n",
              "      <td>09:45</td>\n",
              "      <td>09:25 07 May</td>\n",
              "      <td>23h 40m</td>\n",
              "      <td>NaN</td>\n",
              "      <td>No info</td>\n",
              "      <td>7480.0</td>\n",
              "      <td>Monday</td>\n",
              "    </tr>\n",
              "  </tbody>\n",
              "</table>\n",
              "</div>"
            ],
            "text/plain": [
              "        Airline Date_of_Journey Source  ... Additional_Info   Price     day\n",
              "9039  Air India       6/05/2019  Delhi  ...         No info  7480.0  Monday\n",
              "\n",
              "[1 rows x 12 columns]"
            ]
          },
          "metadata": {
            "tags": []
          },
          "execution_count": 213
        }
      ]
    },
    {
      "cell_type": "code",
      "metadata": {
        "id": "1wxJVmpL0QQM"
      },
      "source": [
        "data1 = data1[data1.day == \"Monday\"]"
      ],
      "execution_count": 214,
      "outputs": []
    },
    {
      "cell_type": "code",
      "metadata": {
        "id": "26NwYDco4BKh"
      },
      "source": [
        "data1  = data1[data1.Dep_Time.str.startswith(\"09:45\")]"
      ],
      "execution_count": 238,
      "outputs": []
    },
    {
      "cell_type": "code",
      "metadata": {
        "colab": {
          "base_uri": "https://localhost:8080/"
        },
        "id": "TjU3lSxJ4p5S",
        "outputId": "1a6cb716-402f-4ad7-bfce-b71987b5382a"
      },
      "source": [
        "data1[data1.Duration == \"23h 40m\"].Route.mode()"
      ],
      "execution_count": 224,
      "outputs": [
        {
          "output_type": "execute_result",
          "data": {
            "text/plain": [
              "0    DEL → MAA → COK\n",
              "dtype: object"
            ]
          },
          "metadata": {
            "tags": []
          },
          "execution_count": 224
        }
      ]
    },
    {
      "cell_type": "code",
      "metadata": {
        "colab": {
          "base_uri": "https://localhost:8080/"
        },
        "id": "VhzyyOqD4zuB",
        "outputId": "0c662231-6534-43cf-ebc7-5bdbcc0d0bc9"
      },
      "source": [
        "data1[data1.Duration == \"23h 40m\"].Total_Stops.mode()"
      ],
      "execution_count": 225,
      "outputs": [
        {
          "output_type": "execute_result",
          "data": {
            "text/plain": [
              "0    1 stop\n",
              "dtype: object"
            ]
          },
          "metadata": {
            "tags": []
          },
          "execution_count": 225
        }
      ]
    },
    {
      "cell_type": "code",
      "metadata": {
        "id": "PNJRCN2MtFkq"
      },
      "source": [
        "dataset['Route'].fillna('DEL → MAA → COK', inplace=True)\n",
        "dataset['Total_Stops'].fillna('1 stop', inplace=True)"
      ],
      "execution_count": 366,
      "outputs": []
    },
    {
      "cell_type": "code",
      "metadata": {
        "colab": {
          "base_uri": "https://localhost:8080/"
        },
        "id": "sFCccsWL5Rmp",
        "outputId": "20546f83-6ff4-46f1-82d0-afc3c9b456fa"
      },
      "source": [
        "dataset.isnull().sum()"
      ],
      "execution_count": 347,
      "outputs": [
        {
          "output_type": "execute_result",
          "data": {
            "text/plain": [
              "Airline               0\n",
              "Date_of_Journey       0\n",
              "Source                0\n",
              "Destination           0\n",
              "Route                 0\n",
              "Dep_Time              0\n",
              "Arrival_Time          0\n",
              "Duration              0\n",
              "Total_Stops           0\n",
              "Additional_Info       0\n",
              "Price              2671\n",
              "dtype: int64"
            ]
          },
          "metadata": {
            "tags": []
          },
          "execution_count": 347
        }
      ]
    },
    {
      "cell_type": "code",
      "metadata": {
        "id": "BbJI6-R45WVp"
      },
      "source": [
        "dataset['Date']=dataset['Date_of_Journey'].str.split('/').str[0]\n",
        "dataset['Month']=dataset['Date_of_Journey'].str.split('/').str[1]\n",
        "dataset['Year']=dataset['Date_of_Journey'].str.split('/').str[2]"
      ],
      "execution_count": 367,
      "outputs": []
    },
    {
      "cell_type": "code",
      "metadata": {
        "id": "jo6wJSYd8L67"
      },
      "source": [
        "def change_datatype(df, feature):\n",
        "  df[feature] = df[feature].astype(int)"
      ],
      "execution_count": 368,
      "outputs": []
    },
    {
      "cell_type": "code",
      "metadata": {
        "id": "laC-gYP58L90"
      },
      "source": [
        "for feat in ['Date', 'Month', 'Year']:\n",
        "  change_datatype(dataset, feat)"
      ],
      "execution_count": 369,
      "outputs": []
    },
    {
      "cell_type": "code",
      "metadata": {
        "colab": {
          "base_uri": "https://localhost:8080/"
        },
        "id": "9CRI996H8MBO",
        "outputId": "27eda4cf-543c-4b54-d5e4-75b38df380e2"
      },
      "source": [
        "dataset['Date'].dtypes"
      ],
      "execution_count": 370,
      "outputs": [
        {
          "output_type": "execute_result",
          "data": {
            "text/plain": [
              "dtype('int64')"
            ]
          },
          "metadata": {
            "tags": []
          },
          "execution_count": 370
        }
      ]
    },
    {
      "cell_type": "code",
      "metadata": {
        "id": "_D4lpqmkEQav"
      },
      "source": [
        "import datetime \n",
        "day_name= ['Monday', 'Tuesday', 'Wednesday', 'Thursday', 'Friday', 'Saturday','Sunday']\n",
        "dataset[\"day\"] = dataset.Date_of_Journey.apply(lambda x : day_name[datetime.datetime.strptime(x, '%d/%m/%Y').weekday()])"
      ],
      "execution_count": 371,
      "outputs": []
    },
    {
      "cell_type": "code",
      "metadata": {
        "id": "5J9KbwWc7qoA"
      },
      "source": [
        "# dataset.drop(['Date_of_Journey'], axis = 1, inplace = True)"
      ],
      "execution_count": 320,
      "outputs": []
    },
    {
      "cell_type": "code",
      "metadata": {
        "colab": {
          "base_uri": "https://localhost:8080/"
        },
        "id": "X-XgpoNd9AjQ",
        "outputId": "742d417f-c22d-440d-fc2b-1d9bd1d7531d"
      },
      "source": [
        "dataset.Airline.value_counts()"
      ],
      "execution_count": 372,
      "outputs": [
        {
          "output_type": "execute_result",
          "data": {
            "text/plain": [
              "Jet Airways                          4746\n",
              "IndiGo                               2564\n",
              "Air India                            2192\n",
              "Multiple carriers                    1543\n",
              "SpiceJet                             1026\n",
              "Vistara                               608\n",
              "Air Asia                              405\n",
              "GoAir                                 240\n",
              "Multiple carriers Premium economy      16\n",
              "Jet Airways Business                    8\n",
              "Vistara Premium economy                 5\n",
              "Trujet                                  1\n",
              "Name: Airline, dtype: int64"
            ]
          },
          "metadata": {
            "tags": []
          },
          "execution_count": 372
        }
      ]
    },
    {
      "cell_type": "code",
      "metadata": {
        "colab": {
          "base_uri": "https://localhost:8080/"
        },
        "id": "UMX1HhF6-vXr",
        "outputId": "48ebb6e7-8fff-4550-de10-3ea63061cf28"
      },
      "source": [
        "dataset[\"Total_Stops\"].value_counts()"
      ],
      "execution_count": 373,
      "outputs": [
        {
          "output_type": "execute_result",
          "data": {
            "text/plain": [
              "1 stop      7057\n",
              "non-stop    4340\n",
              "2 stops     1899\n",
              "3 stops       56\n",
              "4 stops        2\n",
              "Name: Total_Stops, dtype: int64"
            ]
          },
          "metadata": {
            "tags": []
          },
          "execution_count": 373
        }
      ]
    },
    {
      "cell_type": "code",
      "metadata": {
        "id": "_9WibPBR-vaG"
      },
      "source": [
        "dataset[\"Total_Stops\"].replace(\"non-stop\", \"0 stop\", inplace = True)"
      ],
      "execution_count": 374,
      "outputs": []
    },
    {
      "cell_type": "code",
      "metadata": {
        "colab": {
          "base_uri": "https://localhost:8080/"
        },
        "id": "BDjZqZxu-FCv",
        "outputId": "e2282b62-ff67-4d82-d64a-8edfb9667ced"
      },
      "source": [
        "dataset[\"Total_Stops\"].value_counts()"
      ],
      "execution_count": 375,
      "outputs": [
        {
          "output_type": "execute_result",
          "data": {
            "text/plain": [
              "1 stop     7057\n",
              "0 stop     4340\n",
              "2 stops    1899\n",
              "3 stops      56\n",
              "4 stops       2\n",
              "Name: Total_Stops, dtype: int64"
            ]
          },
          "metadata": {
            "tags": []
          },
          "execution_count": 375
        }
      ]
    },
    {
      "cell_type": "code",
      "metadata": {
        "id": "rXpwvqEu-FE_"
      },
      "source": [
        "dataset[\"Stop\"] = dataset[\"Total_Stops\"].str.split(\" \").str[0]"
      ],
      "execution_count": 376,
      "outputs": []
    },
    {
      "cell_type": "code",
      "metadata": {
        "colab": {
          "base_uri": "https://localhost:8080/"
        },
        "id": "wY_ERBnn_SkJ",
        "outputId": "f213805e-f511-426e-adc2-be6cfc9cf9e9"
      },
      "source": [
        "dataset[\"Stop\"].value_counts()"
      ],
      "execution_count": 377,
      "outputs": [
        {
          "output_type": "execute_result",
          "data": {
            "text/plain": [
              "1    7057\n",
              "0    4340\n",
              "2    1899\n",
              "3      56\n",
              "4       2\n",
              "Name: Stop, dtype: int64"
            ]
          },
          "metadata": {
            "tags": []
          },
          "execution_count": 377
        }
      ]
    },
    {
      "cell_type": "code",
      "metadata": {
        "id": "NXdv12ZH_jCO"
      },
      "source": [
        "# dataset.drop(['Total_Stops'], axis = 1, inplace = True)"
      ],
      "execution_count": 327,
      "outputs": []
    },
    {
      "cell_type": "code",
      "metadata": {
        "colab": {
          "base_uri": "https://localhost:8080/"
        },
        "id": "u-5sQQVf9Anf",
        "outputId": "64b59635-946f-4e10-ce20-c81b3a4159a8"
      },
      "source": [
        "dataset.Additional_Info.value_counts()"
      ],
      "execution_count": 378,
      "outputs": [
        {
          "output_type": "execute_result",
          "data": {
            "text/plain": [
              "No info                         10493\n",
              "In-flight meal not included      2426\n",
              "No check-in baggage included      396\n",
              "1 Long layover                     20\n",
              "Change airports                     8\n",
              "Business class                      5\n",
              "No Info                             3\n",
              "2 Long layover                      1\n",
              "Red-eye flight                      1\n",
              "1 Short layover                     1\n",
              "Name: Additional_Info, dtype: int64"
            ]
          },
          "metadata": {
            "tags": []
          },
          "execution_count": 378
        }
      ]
    },
    {
      "cell_type": "code",
      "metadata": {
        "id": "Y4CUsdbu9AtC"
      },
      "source": [
        "dataset['Route_1']=dataset['Route'].str.split('→ ').str[0]\n",
        "dataset['Route_2']=dataset['Route'].str.split('→ ').str[1]\n",
        "dataset['Route_3']=dataset['Route'].str.split('→ ').str[2]\n",
        "dataset['Route_4']=dataset['Route'].str.split('→ ').str[3]\n",
        "dataset['Route_5']=dataset['Route'].str.split('→ ').str[4]"
      ],
      "execution_count": 379,
      "outputs": []
    },
    {
      "cell_type": "code",
      "metadata": {
        "id": "Ep78mXRt9Au2"
      },
      "source": [
        "#dataset.drop(['Route'], axis = 1, inplace = True)"
      ],
      "execution_count": 330,
      "outputs": []
    },
    {
      "cell_type": "code",
      "metadata": {
        "id": "9N9ggpVOAjUq"
      },
      "source": [
        "dataset['Arrival_Time']=dataset['Arrival_Time'].str.split(' ').str[0]\n",
        "dataset['Dep_Time']=dataset['Dep_Time'].str.split(' ').str[0]"
      ],
      "execution_count": 380,
      "outputs": []
    },
    {
      "cell_type": "code",
      "metadata": {
        "colab": {
          "base_uri": "https://localhost:8080/"
        },
        "id": "AVmczhfSAjcj",
        "outputId": "2b2136ea-69ad-4bac-e0ca-2077557fd59e"
      },
      "source": [
        "dataset['Arrival_Time'].head(1)"
      ],
      "execution_count": 381,
      "outputs": [
        {
          "output_type": "execute_result",
          "data": {
            "text/plain": [
              "0    01:10\n",
              "Name: Arrival_Time, dtype: object"
            ]
          },
          "metadata": {
            "tags": []
          },
          "execution_count": 381
        }
      ]
    },
    {
      "cell_type": "code",
      "metadata": {
        "id": "qMgmWgapAvD2"
      },
      "source": [
        "dataset['Arrival_hour'] = dataset['Arrival_Time'].str.split(':').str[0]\n",
        "dataset['Arrival_min'] = dataset['Arrival_Time'].str.split(':').str[1]\n",
        "dataset['Dep_hour'] = dataset['Dep_Time'].str.split(':').str[0]\n",
        "dataset['Dep_min'] = dataset['Dep_Time'].str.split(':').str[1]\n",
        "# dataset['Duration_Hour'] = dataset['Duration'] .str.split(':').str[0]\n",
        "# dataset['Duration_Minute'] = dataset['Duration'] .str.split(':').str[1]\n",
        "dataset['Duration_mins']  =  dataset['Duration'].str.replace('h','*60').str.replace(' ','+').str.replace('m','*1').apply(eval)"
      ],
      "execution_count": 382,
      "outputs": []
    },
    {
      "cell_type": "code",
      "metadata": {
        "id": "bywxCB2UBQcB"
      },
      "source": [
        "for feat in ['Arrival_hour', 'Arrival_min','Stop', 'Dep_hour', 'Dep_min', \"Duration_mins\"]:\n",
        "  change_datatype(dataset, feat)"
      ],
      "execution_count": 383,
      "outputs": []
    },
    {
      "cell_type": "code",
      "metadata": {
        "colab": {
          "base_uri": "https://localhost:8080/"
        },
        "id": "gJyeBz6xBQeR",
        "outputId": "93807407-74f3-40b3-cb11-0d4e2ac75589"
      },
      "source": [
        "dataset['Duration_mins'].dtypes"
      ],
      "execution_count": 388,
      "outputs": [
        {
          "output_type": "execute_result",
          "data": {
            "text/plain": [
              "dtype('int64')"
            ]
          },
          "metadata": {
            "tags": []
          },
          "execution_count": 388
        }
      ]
    },
    {
      "cell_type": "code",
      "metadata": {
        "id": "A1l5-qW2GKp2"
      },
      "source": [
        "def pod(x):\n",
        "    if (x > 3) and (x <= 6):\n",
        "        return 'Early Morning'\n",
        "    elif (x > 6) and (x <= 12 ):\n",
        "        return 'Morning'\n",
        "    elif (x > 12) and (x <= 16):\n",
        "        return'Noon'\n",
        "    elif (x > 16) and (x <= 20) :\n",
        "        return 'Evening'\n",
        "    elif (x > 20) and (x <= 24):\n",
        "        return'Night'\n",
        "    elif (x <= 3):\n",
        "        return'Late Night'"
      ],
      "execution_count": 389,
      "outputs": []
    },
    {
      "cell_type": "code",
      "metadata": {
        "id": "FDDw4kmVGKsm"
      },
      "source": [
        "dataset['Dep_Part_of_day'] = dataset['Dep_hour'].apply(pod)\n",
        "dataset['Arrival_Part_of_day'] = dataset['Arrival_hour'].apply(pod)"
      ],
      "execution_count": 391,
      "outputs": []
    },
    {
      "cell_type": "code",
      "metadata": {
        "colab": {
          "base_uri": "https://localhost:8080/"
        },
        "id": "DeFhSyAALtb0",
        "outputId": "ec86e916-5510-447c-886e-c6c031578aba"
      },
      "source": [
        "dataset.columns"
      ],
      "execution_count": 394,
      "outputs": [
        {
          "output_type": "execute_result",
          "data": {
            "text/plain": [
              "Index(['Airline', 'Date_of_Journey', 'Source', 'Destination', 'Route',\n",
              "       'Dep_Time', 'Arrival_Time', 'Duration', 'Total_Stops',\n",
              "       'Additional_Info', 'Price', 'Date', 'Month', 'Year', 'day', 'Stop',\n",
              "       'Route_1', 'Route_2', 'Route_3', 'Route_4', 'Route_5', 'Arrival_hour',\n",
              "       'Arrival_min', 'Dep_hour', 'Dep_min', 'Duration_mins',\n",
              "       'Dep_Part_of_day', 'Arrival_Part_of_day'],\n",
              "      dtype='object')"
            ]
          },
          "metadata": {
            "tags": []
          },
          "execution_count": 394
        }
      ]
    },
    {
      "cell_type": "markdown",
      "metadata": {
        "id": "OYQW_kiH5s12"
      },
      "source": [
        "# **Data Visualization**"
      ]
    },
    {
      "cell_type": "markdown",
      "metadata": {
        "id": "QSvAGfZv6-wQ"
      },
      "source": [
        "Jet Airways Business class is Having Higher Price than any other Airline"
      ]
    },
    {
      "cell_type": "code",
      "metadata": {
        "colab": {
          "base_uri": "https://localhost:8080/",
          "height": 752
        },
        "id": "9qSWVyzw5vVv",
        "outputId": "2d08b069-02e5-4a57-97ae-19937737af41"
      },
      "source": [
        "import matplotlib.pyplot as plt\n",
        "plt.figure(figsize=(20,10))\n",
        "sns.barplot(x = dataset.Airline, y = dataset.Price)\n",
        "plt.xticks(rotation=90)\n",
        "plt.show()"
      ],
      "execution_count": 252,
      "outputs": [
        {
          "output_type": "display_data",
          "data": {
            "image/png": "[encoded data removed]",
            "text/plain": [
              "<Figure size 1440x720 with 1 Axes>"
            ]
          },
          "metadata": {
            "tags": [],
            "needs_background": "light"
          }
        }
      ]
    },
    {
      "cell_type": "code",
      "metadata": {
        "colab": {
          "base_uri": "https://localhost:8080/",
          "height": 648
        },
        "id": "qAYqr4WaNvWL",
        "outputId": "85bb87c1-b6bf-4300-f4c8-5a5fd17be7c9"
      },
      "source": [
        "import matplotlib.pyplot as plt\n",
        "plt.figure(figsize=(20,10))\n",
        "sns.barplot(x = dataset.day, y = dataset.Price, hue=dataset.Airline)\n",
        "plt.xticks(rotation=90)\n",
        "plt.show()"
      ],
      "execution_count": 402,
      "outputs": [
        {
          "output_type": "display_data",
          "data": {
            "image/png": "[encoded data removed]",
            "text/plain": [
              "<Figure size 1440x720 with 1 Axes>"
            ]
          },
          "metadata": {
            "tags": [],
            "needs_background": "light"
          }
        }
      ]
    },
    {
      "cell_type": "code",
      "metadata": {
        "colab": {
          "base_uri": "https://localhost:8080/",
          "height": 657
        },
        "id": "Awbe_d8nOGyZ",
        "outputId": "fbdacfb9-bd46-4aee-bb54-1329fcd10f51"
      },
      "source": [
        "import matplotlib.pyplot as plt\n",
        "plt.figure(figsize=(20,10))\n",
        "sns.barplot(x = dataset.Dep_Part_of_day, y = dataset.Price, hue=dataset.Airline)\n",
        "plt.xticks(rotation=90)\n",
        "plt.show()"
      ],
      "execution_count": 403,
      "outputs": [
        {
          "output_type": "display_data",
          "data": {
            "image/png": "[encoded data removed]",
            "text/plain": [
              "<Figure size 1440x720 with 1 Axes>"
            ]
          },
          "metadata": {
            "tags": [],
            "needs_background": "light"
          }
        }
      ]
    },
    {
      "cell_type": "code",
      "metadata": {
        "colab": {
          "base_uri": "https://localhost:8080/",
          "height": 657
        },
        "id": "Yz5iu7YjOoOJ",
        "outputId": "0d928d12-3fe0-4cf5-a523-5f301834bc03"
      },
      "source": [
        "import matplotlib.pyplot as plt\n",
        "plt.figure(figsize=(20,10))\n",
        "sns.barplot(x = dataset.Dep_Part_of_day, y = dataset.Price)\n",
        "plt.xticks(rotation=90)\n",
        "plt.show()"
      ],
      "execution_count": 406,
      "outputs": [
        {
          "output_type": "display_data",
          "data": {
            "image/png": "[encoded data removed]",
            "text/plain": [
              "<Figure size 1440x720 with 1 Axes>"
            ]
          },
          "metadata": {
            "tags": [],
            "needs_background": "light"
          }
        }
      ]
    },
    {
      "cell_type": "code",
      "metadata": {
        "colab": {
          "base_uri": "https://localhost:8080/",
          "height": 657
        },
        "id": "hu79I5xuOczk",
        "outputId": "5958cb27-d613-4118-d1d8-1e28600a606c"
      },
      "source": [
        "import matplotlib.pyplot as plt\n",
        "plt.figure(figsize=(20,10))\n",
        "sns.boxplot(x = dataset.Dep_Part_of_day, y = dataset.Price)\n",
        "plt.xticks(rotation=90)\n",
        "plt.show()"
      ],
      "execution_count": 405,
      "outputs": [
        {
          "output_type": "display_data",
          "data": {
            "image/png": "[encoded data removed]",
            "text/plain": [
              "<Figure size 1440x720 with 1 Axes>"
            ]
          },
          "metadata": {
            "tags": [],
            "needs_background": "light"
          }
        }
      ]
    },
    {
      "cell_type": "code",
      "metadata": {
        "id": "sGO0v_r87Muv"
      },
      "source": [
        "import dtale\n",
        "import dtale.app as dtale_app\n",
        "dtale_app.USE_COLAB = True"
      ],
      "execution_count": 395,
      "outputs": []
    },
    {
      "cell_type": "code",
      "metadata": {
        "colab": {
          "base_uri": "https://localhost:8080/",
          "height": 34
        },
        "id": "MBiTu4QhMKa3",
        "outputId": "1460d3be-5282-4161-e042-affb6c3c9717"
      },
      "source": [
        "dtale.show(dataset)"
      ],
      "execution_count": 396,
      "outputs": [
        {
          "output_type": "execute_result",
          "data": {
            "text/plain": [
              "https://neiaqkpqra-496ff2e9c6d22116-40000-colab.googleusercontent.com/dtale/main/5"
            ]
          },
          "metadata": {
            "tags": []
          },
          "execution_count": 396
        }
      ]
    },
    {
      "cell_type": "code",
      "metadata": {
        "id": "DLKm6K57NfmJ"
      },
      "source": [
        "# # DISCLAIMER: 'df' refers to the data you passed in when calling 'dtale.show'\n",
        "\n",
        "# import pandas as pd\n",
        "# df = dataset\n",
        "# if isinstance(df, (pd.DatetimeIndex, pd.MultiIndex)):\n",
        "# \tdf = df.to_frame(index=False)\n",
        "\n",
        "# # remove any pre-existing indices for ease of use in the D-Tale code, but this is not required\n",
        "# df = df.reset_index().drop('index', axis=1, errors='ignore')\n",
        "# df.columns = [str(c) for c in df.columns]  # update columns to strings in case they are numbers\n",
        "\n",
        "# chart_data = pd.concat([\n",
        "# \tdf['day'],\n",
        "# \tdf['Price'],\n",
        "# \tdf['Airline'],\n",
        "# ], axis=1)\n",
        "# chart_data = chart_data.query(\"\"\"(`Airline` == 'Air Asia') or (`Airline` == 'Air India') or (`Airline` == 'GoAir') or (`Airline` == 'IndiGo') or (`Airline` == 'Jet Airways') or (`Airline` == 'Jet Airways Business') or (`Airline` == 'Multiple carriers') or (`Airline` == 'Multiple carriers Premium economy') or (`Airline` == 'SpiceJet') or (`Airline` == 'Trujet') or (`Airline` == 'Vistara') or (`Airline` == 'Vistara Premium economy')\"\"\")\n",
        "# chart_data = chart_data.sort_values(['Airline', 'day'])\n",
        "# chart_data = chart_data.rename(columns={'day': 'x'})\n",
        "# chart_data = chart_data.dropna()\n",
        "# # WARNING: This is not taking into account grouping of any kind, please apply filter associated with\n",
        "# #          the group in question in order to replicate chart. For this we're using '\"\"\"`Airline` == 'Air Asia'\"\"\"'\n",
        "# chart_data = chart_data.query(\"\"\"`Airline` == 'Air Asia'\"\"\")\n",
        "\n",
        "# import plotly.graph_objs as go\n",
        "\n",
        "# charts = []\n",
        "# charts.append(go.Bar(\n",
        "# \tx=chart_data['x'],\n",
        "# \ty=chart_data['Price'],\n",
        "# \tname='(Airline: Air Asia)'\n",
        "# ))\n",
        "# figure = go.Figure(data=charts, layout=go.Layout({\n",
        "#     'barmode': 'group',\n",
        "#     'legend': {'orientation': 'h'},\n",
        "#     'title': {'text': '(Airline: Air Asia) - Price by day'},\n",
        "#     'xaxis': {'title': {'text': 'day'}},\n",
        "#     'yaxis': {'title': {'text': 'Price'}, 'type': 'linear'}\n",
        "# }))\n",
        "\n",
        "# # If you're having trouble viewing your chart in your notebook try passing your 'chart' into this snippet:\n",
        "# #\n",
        "# from plotly.offline import iplot, init_notebook_mode\n",
        "\n",
        "# init_notebook_mode(connected=True)\n",
        "# for chart in charts:\n",
        "#     chart.pop('id', None) # for some reason iplot does not like 'id'\n",
        "# iplot(figure)"
      ],
      "execution_count": null,
      "outputs": []
    },
    {
      "cell_type": "code",
      "metadata": {
        "colab": {
          "base_uri": "https://localhost:8080/"
        },
        "id": "ScsKcyj0O2qU",
        "outputId": "d66d81c4-4b50-4f37-b4bc-edbb23f59122"
      },
      "source": [
        "dataset.isnull().sum()"
      ],
      "execution_count": 410,
      "outputs": [
        {
          "output_type": "execute_result",
          "data": {
            "text/plain": [
              "Airline                   0\n",
              "Date_of_Journey           0\n",
              "Source                    0\n",
              "Destination               0\n",
              "Route                     0\n",
              "Dep_Time                  0\n",
              "Arrival_Time              0\n",
              "Duration                  0\n",
              "Total_Stops               0\n",
              "Additional_Info           0\n",
              "Price                  2671\n",
              "Date                      0\n",
              "Month                     0\n",
              "Year                      0\n",
              "day                       0\n",
              "Stop                      0\n",
              "Route_1                   0\n",
              "Route_2                   0\n",
              "Route_3                   0\n",
              "Route_4                   0\n",
              "Route_5                   0\n",
              "Arrival_hour              0\n",
              "Arrival_min               0\n",
              "Dep_hour                  0\n",
              "Dep_min                   0\n",
              "Duration_mins             0\n",
              "Dep_Part_of_day           0\n",
              "Arrival_Part_of_day       0\n",
              "dtype: int64"
            ]
          },
          "metadata": {
            "tags": []
          },
          "execution_count": 410
        }
      ]
    },
    {
      "cell_type": "code",
      "metadata": {
        "id": "j7gEXy8kPHFf"
      },
      "source": [
        "dataset[\"Route_3\"].fillna(\"None\", inplace = True)\n",
        "dataset[\"Route_4\"].fillna(\"None\", inplace = True)\n",
        "dataset[\"Route_5\"].fillna(\"None\", inplace = True)"
      ],
      "execution_count": 409,
      "outputs": []
    },
    {
      "cell_type": "code",
      "metadata": {
        "id": "ibGUPsjlPmUY"
      },
      "source": [
        "data = dataset.copy()"
      ],
      "execution_count": 411,
      "outputs": []
    },
    {
      "cell_type": "code",
      "metadata": {
        "id": "ri4HczBMPHIZ"
      },
      "source": [
        "data.drop(['Date_of_Journey', 'Dep_Time', 'Arrival_Time', 'Route', 'Duration', 'Total_Stops', 'Additional_Info'], axis = 1 , inplace = True)"
      ],
      "execution_count": 412,
      "outputs": []
    },
    {
      "cell_type": "code",
      "metadata": {
        "colab": {
          "base_uri": "https://localhost:8080/"
        },
        "id": "PGrAeRydPHLx",
        "outputId": "5f6d5ce2-a064-4af9-d947-0fe07fa3f4f5"
      },
      "source": [
        "data.shape"
      ],
      "execution_count": 416,
      "outputs": [
        {
          "output_type": "execute_result",
          "data": {
            "text/plain": [
              "(13354, 21)"
            ]
          },
          "metadata": {
            "tags": []
          },
          "execution_count": 416
        }
      ]
    },
    {
      "cell_type": "code",
      "metadata": {
        "colab": {
          "base_uri": "https://localhost:8080/"
        },
        "id": "7Dyoad9SPHOs",
        "outputId": "2908c088-936d-47ba-d0f3-91dcf3f24a32"
      },
      "source": [
        "data.info()"
      ],
      "execution_count": 439,
      "outputs": [
        {
          "output_type": "stream",
          "text": [
            "<class 'pandas.core.frame.DataFrame'>\n",
            "Int64Index: 13354 entries, 0 to 2670\n",
            "Data columns (total 21 columns):\n",
            " #   Column               Non-Null Count  Dtype  \n",
            "---  ------               --------------  -----  \n",
            " 0   Airline              13354 non-null  object \n",
            " 1   Source               13354 non-null  object \n",
            " 2   Destination          13354 non-null  object \n",
            " 3   Price                10683 non-null  float64\n",
            " 4   Date                 13354 non-null  int64  \n",
            " 5   Month                13354 non-null  int64  \n",
            " 6   Year                 13354 non-null  int64  \n",
            " 7   day                  13354 non-null  int64  \n",
            " 8   Stop                 13354 non-null  int64  \n",
            " 9   Route_1              13354 non-null  object \n",
            " 10  Route_2              13354 non-null  object \n",
            " 11  Route_3              13354 non-null  object \n",
            " 12  Route_4              13354 non-null  object \n",
            " 13  Route_5              13354 non-null  object \n",
            " 14  Arrival_hour         13354 non-null  int64  \n",
            " 15  Arrival_min          13354 non-null  int64  \n",
            " 16  Dep_hour             13354 non-null  int64  \n",
            " 17  Dep_min              13354 non-null  int64  \n",
            " 18  Duration_mins        13354 non-null  int64  \n",
            " 19  Dep_Part_of_day      13354 non-null  object \n",
            " 20  Arrival_Part_of_day  13354 non-null  object \n",
            "dtypes: float64(1), int64(10), object(10)\n",
            "memory usage: 2.6+ MB\n"
          ],
          "name": "stdout"
        }
      ]
    },
    {
      "cell_type": "code",
      "metadata": {
        "id": "wkgW3JQCPHUl"
      },
      "source": [
        "categorical_feature = data.select_dtypes(\"object\")\n",
        "numerical_feature = data.select_dtypes(\"int64\")"
      ],
      "execution_count": 426,
      "outputs": []
    },
    {
      "cell_type": "code",
      "metadata": {
        "colab": {
          "base_uri": "https://localhost:8080/"
        },
        "id": "RWrJC8TKSQ8I",
        "outputId": "0de56424-b576-493c-8357-266798e7f31e"
      },
      "source": [
        "data.day.value_counts()"
      ],
      "execution_count": 436,
      "outputs": [
        {
          "output_type": "execute_result",
          "data": {
            "text/plain": [
              "Wednesday    2621\n",
              "Monday       2307\n",
              "Thursday     2283\n",
              "Saturday     2097\n",
              "Sunday       1849\n",
              "Friday       1121\n",
              "Tuesday      1076\n",
              "Name: day, dtype: int64"
            ]
          },
          "metadata": {
            "tags": []
          },
          "execution_count": 436
        }
      ]
    },
    {
      "cell_type": "markdown",
      "metadata": {
        "id": "gTivTKR-S5qf"
      },
      "source": [
        "# **Feature Engineering**"
      ]
    },
    {
      "cell_type": "code",
      "metadata": {
        "id": "_mLXYqShSMfk"
      },
      "source": [
        "weights = {\n",
        "    'Monday' : 1,\n",
        "    'Tuesday' : 2, \n",
        "    'Wednesday' : 3,\n",
        "    'Thursday' : 4,\n",
        "    'Friday' : 5,\n",
        "    'Saturday' : 6,\n",
        "    'Sunday' : 7\n",
        "}\n",
        "\n",
        "data['day'] = data['day'].map(weights)"
      ],
      "execution_count": 437,
      "outputs": []
    },
    {
      "cell_type": "code",
      "metadata": {
        "id": "QedhMdrCRB0I"
      },
      "source": [
        "from sklearn.preprocessing import LabelEncoder\n",
        "encoder=LabelEncoder()\n",
        "data[\"Airline\"]=encoder.fit_transform(data['Airline'])\n",
        "data[\"Source\"]=encoder.fit_transform(data['Source'])\n",
        "data[\"Destination\"]=encoder.fit_transform(data['Destination'])\n",
        "data[\"Route_1\"]=encoder.fit_transform(data['Route_1'])\n",
        "data[\"Route_2\"]=encoder.fit_transform(data['Route_2'])\n",
        "data[\"Route_3\"]=encoder.fit_transform(data['Route_3'])\n",
        "data[\"Route_4\"]=encoder.fit_transform(data['Route_4'])\n",
        "data[\"Route_5\"]=encoder.fit_transform(data['Route_5'])\n",
        "data[\"Dep_Part_of_day\"]=encoder.fit_transform(data['Dep_Part_of_day'])\n",
        "data[\"Arrival_Part_of_day\"]=encoder.fit_transform(data['Arrival_Part_of_day'])"
      ],
      "execution_count": 440,
      "outputs": []
    },
    {
      "cell_type": "code",
      "metadata": {
        "colab": {
          "base_uri": "https://localhost:8080/"
        },
        "id": "ih5VN2ucSipz",
        "outputId": "eacca333-571f-4f47-bc9d-b72f853aad52"
      },
      "source": [
        "data.info()"
      ],
      "execution_count": 441,
      "outputs": [
        {
          "output_type": "stream",
          "text": [
            "<class 'pandas.core.frame.DataFrame'>\n",
            "Int64Index: 13354 entries, 0 to 2670\n",
            "Data columns (total 21 columns):\n",
            " #   Column               Non-Null Count  Dtype  \n",
            "---  ------               --------------  -----  \n",
            " 0   Airline              13354 non-null  int64  \n",
            " 1   Source               13354 non-null  int64  \n",
            " 2   Destination          13354 non-null  int64  \n",
            " 3   Price                10683 non-null  float64\n",
            " 4   Date                 13354 non-null  int64  \n",
            " 5   Month                13354 non-null  int64  \n",
            " 6   Year                 13354 non-null  int64  \n",
            " 7   day                  13354 non-null  int64  \n",
            " 8   Stop                 13354 non-null  int64  \n",
            " 9   Route_1              13354 non-null  int64  \n",
            " 10  Route_2              13354 non-null  int64  \n",
            " 11  Route_3              13354 non-null  int64  \n",
            " 12  Route_4              13354 non-null  int64  \n",
            " 13  Route_5              13354 non-null  int64  \n",
            " 14  Arrival_hour         13354 non-null  int64  \n",
            " 15  Arrival_min          13354 non-null  int64  \n",
            " 16  Dep_hour             13354 non-null  int64  \n",
            " 17  Dep_min              13354 non-null  int64  \n",
            " 18  Duration_mins        13354 non-null  int64  \n",
            " 19  Dep_Part_of_day      13354 non-null  int64  \n",
            " 20  Arrival_Part_of_day  13354 non-null  int64  \n",
            "dtypes: float64(1), int64(20)\n",
            "memory usage: 2.6 MB\n"
          ],
          "name": "stdout"
        }
      ]
    },
    {
      "cell_type": "code",
      "metadata": {
        "id": "xxcFtU-zSqRQ"
      },
      "source": [
        "data_train=data[0:10683]\n",
        "data_test=data[10683:]"
      ],
      "execution_count": 443,
      "outputs": []
    },
    {
      "cell_type": "markdown",
      "metadata": {
        "id": "BkHzu5c_TYBI"
      },
      "source": [
        "# **Train & Test set Split**"
      ]
    },
    {
      "cell_type": "code",
      "metadata": {
        "id": "QirG7yVATed8"
      },
      "source": [
        "X = data_train.drop(['Price'], axis = 1)\n",
        "y = data_train['Price']"
      ],
      "execution_count": 444,
      "outputs": []
    },
    {
      "cell_type": "code",
      "metadata": {
        "id": "OlTy1qPTTcBX"
      },
      "source": [
        "from sklearn.model_selection import train_test_split\n",
        "X_train, X_test, y_train, y_test = train_test_split(X, y, test_size=0.25, random_state=27)"
      ],
      "execution_count": 446,
      "outputs": []
    },
    {
      "cell_type": "code",
      "metadata": {
        "colab": {
          "base_uri": "https://localhost:8080/"
        },
        "id": "kmMRtbn9T3sB",
        "outputId": "55349218-8097-4d8c-b12a-61b856571135"
      },
      "source": [
        "X_train.shape"
      ],
      "execution_count": 447,
      "outputs": [
        {
          "output_type": "execute_result",
          "data": {
            "text/plain": [
              "(8012, 20)"
            ]
          },
          "metadata": {
            "tags": []
          },
          "execution_count": 447
        }
      ]
    },
    {
      "cell_type": "markdown",
      "metadata": {
        "id": "yYJiqxHuS-r_"
      },
      "source": [
        "# **Feature Selection**"
      ]
    },
    {
      "cell_type": "code",
      "metadata": {
        "id": "vkKli7WNSxIp"
      },
      "source": [
        "from sklearn.feature_selection import SelectKBest\n",
        "from sklearn.feature_selection import chi2\n",
        "\n",
        "### Apply SelectKBest Algorithm\n",
        "ordered_rank_features=SelectKBest(score_func=chi2,k=20)\n",
        "ordered_feature=ordered_rank_features.fit(X_train,y_train)"
      ],
      "execution_count": 448,
      "outputs": []
    },
    {
      "cell_type": "code",
      "metadata": {
        "id": "-yZsrT9bT7so"
      },
      "source": [
        "dfscores=pd.DataFrame(ordered_feature.scores_,columns=[\"Score\"])\n",
        "dfcolumns=pd.DataFrame(X_train.columns)"
      ],
      "execution_count": 449,
      "outputs": []
    },
    {
      "cell_type": "code",
      "metadata": {
        "colab": {
          "base_uri": "https://localhost:8080/",
          "height": 669
        },
        "id": "eVuDwE1GUEBA",
        "outputId": "4862f5a8-1d72-4e13-9377-1e519e17a126"
      },
      "source": [
        "features_rank=pd.concat([dfcolumns,dfscores],axis=1)\n",
        "features_rank.columns=['Features','Score']\n",
        "features_rank"
      ],
      "execution_count": 458,
      "outputs": [
        {
          "output_type": "execute_result",
          "data": {
            "text/html": [
              "<div>\n",
              "<style scoped>\n",
              "    .dataframe tbody tr th:only-of-type {\n",
              "        vertical-align: middle;\n",
              "    }\n",
              "\n",
              "    .dataframe tbody tr th {\n",
              "        vertical-align: top;\n",
              "    }\n",
              "\n",
              "    .dataframe thead th {\n",
              "        text-align: right;\n",
              "    }\n",
              "</style>\n",
              "<table border=\"1\" class=\"dataframe\">\n",
              "  <thead>\n",
              "    <tr style=\"text-align: right;\">\n",
              "      <th></th>\n",
              "      <th>Features</th>\n",
              "      <th>Score</th>\n",
              "    </tr>\n",
              "  </thead>\n",
              "  <tbody>\n",
              "    <tr>\n",
              "      <th>0</th>\n",
              "      <td>Airline</td>\n",
              "      <td>1.051974e+04</td>\n",
              "    </tr>\n",
              "    <tr>\n",
              "      <th>1</th>\n",
              "      <td>Source</td>\n",
              "      <td>5.554467e+03</td>\n",
              "    </tr>\n",
              "    <tr>\n",
              "      <th>2</th>\n",
              "      <td>Destination</td>\n",
              "      <td>1.165279e+04</td>\n",
              "    </tr>\n",
              "    <tr>\n",
              "      <th>3</th>\n",
              "      <td>Date</td>\n",
              "      <td>1.741730e+04</td>\n",
              "    </tr>\n",
              "    <tr>\n",
              "      <th>4</th>\n",
              "      <td>Month</td>\n",
              "      <td>1.828831e+03</td>\n",
              "    </tr>\n",
              "    <tr>\n",
              "      <th>5</th>\n",
              "      <td>Year</td>\n",
              "      <td>5.075136e-26</td>\n",
              "    </tr>\n",
              "    <tr>\n",
              "      <th>6</th>\n",
              "      <td>day</td>\n",
              "      <td>3.039154e+03</td>\n",
              "    </tr>\n",
              "    <tr>\n",
              "      <th>7</th>\n",
              "      <td>Stop</td>\n",
              "      <td>4.346408e+03</td>\n",
              "    </tr>\n",
              "    <tr>\n",
              "      <th>8</th>\n",
              "      <td>Route_1</td>\n",
              "      <td>5.694196e+03</td>\n",
              "    </tr>\n",
              "    <tr>\n",
              "      <th>9</th>\n",
              "      <td>Route_2</td>\n",
              "      <td>3.894687e+04</td>\n",
              "    </tr>\n",
              "    <tr>\n",
              "      <th>10</th>\n",
              "      <td>Route_3</td>\n",
              "      <td>5.553727e+04</td>\n",
              "    </tr>\n",
              "    <tr>\n",
              "      <th>11</th>\n",
              "      <td>Route_4</td>\n",
              "      <td>4.658762e+03</td>\n",
              "    </tr>\n",
              "    <tr>\n",
              "      <th>12</th>\n",
              "      <td>Route_5</td>\n",
              "      <td>4.954547e+01</td>\n",
              "    </tr>\n",
              "    <tr>\n",
              "      <th>13</th>\n",
              "      <td>Arrival_hour</td>\n",
              "      <td>1.427676e+04</td>\n",
              "    </tr>\n",
              "    <tr>\n",
              "      <th>14</th>\n",
              "      <td>Arrival_min</td>\n",
              "      <td>3.941095e+04</td>\n",
              "    </tr>\n",
              "    <tr>\n",
              "      <th>15</th>\n",
              "      <td>Dep_hour</td>\n",
              "      <td>8.577665e+03</td>\n",
              "    </tr>\n",
              "    <tr>\n",
              "      <th>16</th>\n",
              "      <td>Dep_min</td>\n",
              "      <td>5.304306e+04</td>\n",
              "    </tr>\n",
              "    <tr>\n",
              "      <th>17</th>\n",
              "      <td>Duration_mins</td>\n",
              "      <td>2.526226e+06</td>\n",
              "    </tr>\n",
              "    <tr>\n",
              "      <th>18</th>\n",
              "      <td>Dep_Part_of_day</td>\n",
              "      <td>3.017685e+03</td>\n",
              "    </tr>\n",
              "    <tr>\n",
              "      <th>19</th>\n",
              "      <td>Arrival_Part_of_day</td>\n",
              "      <td>3.897470e+03</td>\n",
              "    </tr>\n",
              "  </tbody>\n",
              "</table>\n",
              "</div>"
            ],
            "text/plain": [
              "               Features         Score\n",
              "0               Airline  1.051974e+04\n",
              "1                Source  5.554467e+03\n",
              "2           Destination  1.165279e+04\n",
              "3                  Date  1.741730e+04\n",
              "4                 Month  1.828831e+03\n",
              "5                  Year  5.075136e-26\n",
              "6                   day  3.039154e+03\n",
              "7                  Stop  4.346408e+03\n",
              "8               Route_1  5.694196e+03\n",
              "9               Route_2  3.894687e+04\n",
              "10              Route_3  5.553727e+04\n",
              "11              Route_4  4.658762e+03\n",
              "12              Route_5  4.954547e+01\n",
              "13         Arrival_hour  1.427676e+04\n",
              "14          Arrival_min  3.941095e+04\n",
              "15             Dep_hour  8.577665e+03\n",
              "16              Dep_min  5.304306e+04\n",
              "17        Duration_mins  2.526226e+06\n",
              "18      Dep_Part_of_day  3.017685e+03\n",
              "19  Arrival_Part_of_day  3.897470e+03"
            ]
          },
          "metadata": {
            "tags": []
          },
          "execution_count": 458
        }
      ]
    },
    {
      "cell_type": "code",
      "metadata": {
        "colab": {
          "base_uri": "https://localhost:8080/",
          "height": 669
        },
        "id": "9s6e8KCFUm2F",
        "outputId": "94525fdd-b65f-41f0-fb3b-1750b7383e68"
      },
      "source": [
        "features_rank.nlargest(20,'Score') "
      ],
      "execution_count": 462,
      "outputs": [
        {
          "output_type": "execute_result",
          "data": {
            "text/html": [
              "<div>\n",
              "<style scoped>\n",
              "    .dataframe tbody tr th:only-of-type {\n",
              "        vertical-align: middle;\n",
              "    }\n",
              "\n",
              "    .dataframe tbody tr th {\n",
              "        vertical-align: top;\n",
              "    }\n",
              "\n",
              "    .dataframe thead th {\n",
              "        text-align: right;\n",
              "    }\n",
              "</style>\n",
              "<table border=\"1\" class=\"dataframe\">\n",
              "  <thead>\n",
              "    <tr style=\"text-align: right;\">\n",
              "      <th></th>\n",
              "      <th>Features</th>\n",
              "      <th>Score</th>\n",
              "    </tr>\n",
              "  </thead>\n",
              "  <tbody>\n",
              "    <tr>\n",
              "      <th>17</th>\n",
              "      <td>Duration_mins</td>\n",
              "      <td>2.526226e+06</td>\n",
              "    </tr>\n",
              "    <tr>\n",
              "      <th>10</th>\n",
              "      <td>Route_3</td>\n",
              "      <td>5.553727e+04</td>\n",
              "    </tr>\n",
              "    <tr>\n",
              "      <th>16</th>\n",
              "      <td>Dep_min</td>\n",
              "      <td>5.304306e+04</td>\n",
              "    </tr>\n",
              "    <tr>\n",
              "      <th>14</th>\n",
              "      <td>Arrival_min</td>\n",
              "      <td>3.941095e+04</td>\n",
              "    </tr>\n",
              "    <tr>\n",
              "      <th>9</th>\n",
              "      <td>Route_2</td>\n",
              "      <td>3.894687e+04</td>\n",
              "    </tr>\n",
              "    <tr>\n",
              "      <th>3</th>\n",
              "      <td>Date</td>\n",
              "      <td>1.741730e+04</td>\n",
              "    </tr>\n",
              "    <tr>\n",
              "      <th>13</th>\n",
              "      <td>Arrival_hour</td>\n",
              "      <td>1.427676e+04</td>\n",
              "    </tr>\n",
              "    <tr>\n",
              "      <th>2</th>\n",
              "      <td>Destination</td>\n",
              "      <td>1.165279e+04</td>\n",
              "    </tr>\n",
              "    <tr>\n",
              "      <th>0</th>\n",
              "      <td>Airline</td>\n",
              "      <td>1.051974e+04</td>\n",
              "    </tr>\n",
              "    <tr>\n",
              "      <th>15</th>\n",
              "      <td>Dep_hour</td>\n",
              "      <td>8.577665e+03</td>\n",
              "    </tr>\n",
              "    <tr>\n",
              "      <th>8</th>\n",
              "      <td>Route_1</td>\n",
              "      <td>5.694196e+03</td>\n",
              "    </tr>\n",
              "    <tr>\n",
              "      <th>1</th>\n",
              "      <td>Source</td>\n",
              "      <td>5.554467e+03</td>\n",
              "    </tr>\n",
              "    <tr>\n",
              "      <th>11</th>\n",
              "      <td>Route_4</td>\n",
              "      <td>4.658762e+03</td>\n",
              "    </tr>\n",
              "    <tr>\n",
              "      <th>7</th>\n",
              "      <td>Stop</td>\n",
              "      <td>4.346408e+03</td>\n",
              "    </tr>\n",
              "    <tr>\n",
              "      <th>19</th>\n",
              "      <td>Arrival_Part_of_day</td>\n",
              "      <td>3.897470e+03</td>\n",
              "    </tr>\n",
              "    <tr>\n",
              "      <th>6</th>\n",
              "      <td>day</td>\n",
              "      <td>3.039154e+03</td>\n",
              "    </tr>\n",
              "    <tr>\n",
              "      <th>18</th>\n",
              "      <td>Dep_Part_of_day</td>\n",
              "      <td>3.017685e+03</td>\n",
              "    </tr>\n",
              "    <tr>\n",
              "      <th>4</th>\n",
              "      <td>Month</td>\n",
              "      <td>1.828831e+03</td>\n",
              "    </tr>\n",
              "    <tr>\n",
              "      <th>12</th>\n",
              "      <td>Route_5</td>\n",
              "      <td>4.954547e+01</td>\n",
              "    </tr>\n",
              "    <tr>\n",
              "      <th>5</th>\n",
              "      <td>Year</td>\n",
              "      <td>5.075136e-26</td>\n",
              "    </tr>\n",
              "  </tbody>\n",
              "</table>\n",
              "</div>"
            ],
            "text/plain": [
              "               Features         Score\n",
              "17        Duration_mins  2.526226e+06\n",
              "10              Route_3  5.553727e+04\n",
              "16              Dep_min  5.304306e+04\n",
              "14          Arrival_min  3.941095e+04\n",
              "9               Route_2  3.894687e+04\n",
              "3                  Date  1.741730e+04\n",
              "13         Arrival_hour  1.427676e+04\n",
              "2           Destination  1.165279e+04\n",
              "0               Airline  1.051974e+04\n",
              "15             Dep_hour  8.577665e+03\n",
              "8               Route_1  5.694196e+03\n",
              "1                Source  5.554467e+03\n",
              "11              Route_4  4.658762e+03\n",
              "7                  Stop  4.346408e+03\n",
              "19  Arrival_Part_of_day  3.897470e+03\n",
              "6                   day  3.039154e+03\n",
              "18      Dep_Part_of_day  3.017685e+03\n",
              "4                 Month  1.828831e+03\n",
              "12              Route_5  4.954547e+01\n",
              "5                  Year  5.075136e-26"
            ]
          },
          "metadata": {
            "tags": []
          },
          "execution_count": 462
        }
      ]
    },
    {
      "cell_type": "code",
      "metadata": {
        "id": "ZNWxSBW3U2Qy"
      },
      "source": [
        "# with the following function we can select highly correlated features\n",
        "# it will remove the first feature that is correlated with anything other feature\n",
        "\n",
        "def correlation(dataset, threshold):\n",
        "    col_corr = set()  # Set of all the names of correlated columns\n",
        "    corr_matrix = dataset.corr()\n",
        "    for i in range(len(corr_matrix.columns)):\n",
        "        for j in range(i):\n",
        "            if abs(corr_matrix.iloc[i, j]) > threshold: # we are interested in absolute coeff value\n",
        "                colname = corr_matrix.columns[i]  # getting the name of column\n",
        "                col_corr.add(colname)\n",
        "    return col_corr"
      ],
      "execution_count": 463,
      "outputs": []
    },
    {
      "cell_type": "code",
      "metadata": {
        "id": "T7DmZ2NLU-kR"
      },
      "source": [
        "feature_corr = correlation(X_train, 0.85)"
      ],
      "execution_count": 470,
      "outputs": []
    },
    {
      "cell_type": "markdown",
      "metadata": {
        "id": "CKZEp1M8VQ3I"
      },
      "source": [
        "No much correlation between the feature"
      ]
    },
    {
      "cell_type": "code",
      "metadata": {
        "id": "7cRg2qSCVXag"
      },
      "source": [
        "from sklearn.linear_model import Lasso\n",
        "from sklearn.feature_selection import SelectFromModel"
      ],
      "execution_count": 472,
      "outputs": []
    },
    {
      "cell_type": "code",
      "metadata": {
        "id": "-eLYx3ikVcp9"
      },
      "source": [
        "model=SelectFromModel(Lasso(alpha=0.005,random_state=0))"
      ],
      "execution_count": 473,
      "outputs": []
    },
    {
      "cell_type": "code",
      "metadata": {
        "colab": {
          "base_uri": "https://localhost:8080/"
        },
        "id": "3UDgRgkbVf9k",
        "outputId": "3e7c2ac3-8461-4a68-d843-e010fe85ae00"
      },
      "source": [
        "model.fit(X_train,y_train)"
      ],
      "execution_count": 474,
      "outputs": [
        {
          "output_type": "execute_result",
          "data": {
            "text/plain": [
              "SelectFromModel(estimator=Lasso(alpha=0.005, copy_X=True, fit_intercept=True,\n",
              "                                max_iter=1000, normalize=False, positive=False,\n",
              "                                precompute=False, random_state=0,\n",
              "                                selection='cyclic', tol=0.0001,\n",
              "                                warm_start=False),\n",
              "                max_features=None, norm_order=1, prefit=False, threshold=None)"
            ]
          },
          "metadata": {
            "tags": []
          },
          "execution_count": 474
        }
      ]
    },
    {
      "cell_type": "code",
      "metadata": {
        "id": "wfMDsS1iViTs"
      },
      "source": [
        "selected_features=X_train.columns[(model.get_support())]"
      ],
      "execution_count": 475,
      "outputs": []
    },
    {
      "cell_type": "code",
      "metadata": {
        "colab": {
          "base_uri": "https://localhost:8080/"
        },
        "id": "0J8itjxjVw9y",
        "outputId": "c9920324-1953-4511-c5fa-3e6fe5be3b47"
      },
      "source": [
        "X_train.columns"
      ],
      "execution_count": 480,
      "outputs": [
        {
          "output_type": "execute_result",
          "data": {
            "text/plain": [
              "Index(['Airline', 'Source', 'Destination', 'Date', 'Month', 'Year', 'day',\n",
              "       'Stop', 'Route_1', 'Route_2', 'Route_3', 'Route_4', 'Route_5',\n",
              "       'Arrival_hour', 'Arrival_min', 'Dep_hour', 'Dep_min', 'Duration_mins',\n",
              "       'Dep_Part_of_day', 'Arrival_Part_of_day'],\n",
              "      dtype='object')"
            ]
          },
          "metadata": {
            "tags": []
          },
          "execution_count": 480
        }
      ]
    },
    {
      "cell_type": "code",
      "metadata": {
        "colab": {
          "base_uri": "https://localhost:8080/"
        },
        "id": "xOCt-SeSVu1I",
        "outputId": "05fd110a-cbea-48ae-e099-8d966afb36f4"
      },
      "source": [
        "selected_features"
      ],
      "execution_count": 478,
      "outputs": [
        {
          "output_type": "execute_result",
          "data": {
            "text/plain": [
              "Index(['Airline', 'Source', 'Destination', 'Date', 'Month', 'day', 'Stop',\n",
              "       'Route_1', 'Route_2', 'Route_3', 'Route_4', 'Route_5', 'Arrival_hour',\n",
              "       'Arrival_min', 'Dep_hour', 'Dep_min', 'Duration_mins',\n",
              "       'Dep_Part_of_day', 'Arrival_Part_of_day'],\n",
              "      dtype='object')"
            ]
          },
          "metadata": {
            "tags": []
          },
          "execution_count": 478
        }
      ]
    },
    {
      "cell_type": "code",
      "metadata": {
        "id": "n-mS57j3VtRC"
      },
      "source": [
        "X_train=X_train.drop(['Year'],axis=1)\n",
        "X_test=X_test.drop(['Year'],axis=1)"
      ],
      "execution_count": 481,
      "outputs": []
    },
    {
      "cell_type": "markdown",
      "metadata": {
        "id": "U4x0Kt_EWDJz"
      },
      "source": [
        "# **Feature Scaling**"
      ]
    },
    {
      "cell_type": "code",
      "metadata": {
        "id": "O_EpbLizWFi4"
      },
      "source": [
        "def plot_feature_distribution(df, feature):\n",
        "  plt.figure(figsize=(15,3))\n",
        "  plt.subplot(1,3,1)\n",
        "  df[feature].hist()\n",
        "  plt.subplot(1,3,2)\n",
        "  sns.boxplot(df[feature])\n",
        "  plt.subplot(1,3,3)\n",
        "  stat.probplot(df[feature],dist='norm',plot=pylab)\n",
        "  plt.show()"
      ],
      "execution_count": 497,
      "outputs": []
    },
    {
      "cell_type": "code",
      "metadata": {
        "colab": {
          "base_uri": "https://localhost:8080/",
          "height": 1000
        },
        "id": "1gLlVQK6WLmP",
        "outputId": "35707ca0-d652-416c-d022-020ec7205794"
      },
      "source": [
        "for feature in X_train.columns:\n",
        "  print(feature)\n",
        "  plot_feature_distribution(X_train, feature)"
      ],
      "execution_count": 498,
      "outputs": [
        {
          "output_type": "stream",
          "text": [
            "Airline\n"
          ],
          "name": "stdout"
        },
        {
          "output_type": "display_data",
          "data": {
            "image/png": "[encoded data removed]",
            "text/plain": [
              "<Figure size 1080x216 with 3 Axes>"
            ]
          },
          "metadata": {
            "tags": [],
            "needs_background": "light"
          }
        },
        {
          "output_type": "stream",
          "text": [
            "Source\n"
          ],
          "name": "stdout"
        },
        {
          "output_type": "display_data",
          "data": {
            "image/png": "[encoded data removed]",
            "text/plain": [
              "<Figure size 1080x216 with 3 Axes>"
            ]
          },
          "metadata": {
            "tags": [],
            "needs_background": "light"
          }
        },
        {
          "output_type": "stream",
          "text": [
            "Destination\n"
          ],
          "name": "stdout"
        },
        {
          "output_type": "display_data",
          "data": {
            "image/png": "[encoded data removed]",
            "text/plain": [
              "<Figure size 1080x216 with 3 Axes>"
            ]
          },
          "metadata": {
            "tags": [],
            "needs_background": "light"
          }
        },
        {
          "output_type": "stream",
          "text": [
            "Date\n"
          ],
          "name": "stdout"
        },
        {
          "output_type": "display_data",
          "data": {
            "image/png": "[encoded data removed]",
            "text/plain": [
              "<Figure size 1080x216 with 3 Axes>"
            ]
          },
          "metadata": {
            "tags": [],
            "needs_background": "light"
          }
        },
        {
          "output_type": "stream",
          "text": [
            "Month\n"
          ],
          "name": "stdout"
        },
        {
          "output_type": "display_data",
          "data": {
            "image/png": "[encoded data removed]",
            "text/plain": [
              "<Figure size 1080x216 with 3 Axes>"
            ]
          },
          "metadata": {
            "tags": [],
            "needs_background": "light"
          }
        },
        {
          "output_type": "stream",
          "text": [
            "day\n"
          ],
          "name": "stdout"
        },
        {
          "output_type": "display_data",
          "data": {
            "image/png": "[encoded data removed]",
            "text/plain": [
              "<Figure size 1080x216 with 3 Axes>"
            ]
          },
          "metadata": {
            "tags": [],
            "needs_background": "light"
          }
        },
        {
          "output_type": "stream",
          "text": [
            "Stop\n"
          ],
          "name": "stdout"
        },
        {
          "output_type": "display_data",
          "data": {
            "image/png": "[encoded data removed]",
            "text/plain": [
              "<Figure size 1080x216 with 3 Axes>"
            ]
          },
          "metadata": {
            "tags": [],
            "needs_background": "light"
          }
        },
        {
          "output_type": "stream",
          "text": [
            "Route_1\n"
          ],
          "name": "stdout"
        },
        {
          "output_type": "display_data",
          "data": {
            "image/png": "[encoded data removed]",
            "text/plain": [
              "<Figure size 1080x216 with 3 Axes>"
            ]
          },
          "metadata": {
            "tags": [],
            "needs_background": "light"
          }
        },
        {
          "output_type": "stream",
          "text": [
            "Route_2\n"
          ],
          "name": "stdout"
        },
        {
          "output_type": "display_data",
          "data": {
            "image/png": "[encoded data removed]",
            "text/plain": [
              "<Figure size 1080x216 with 3 Axes>"
            ]
          },
          "metadata": {
            "tags": [],
            "needs_background": "light"
          }
        },
        {
          "output_type": "stream",
          "text": [
            "Route_3\n"
          ],
          "name": "stdout"
        },
        {
          "output_type": "display_data",
          "data": {
            "image/png": "[encoded data removed]",
            "text/plain": [
              "<Figure size 1080x216 with 3 Axes>"
            ]
          },
          "metadata": {
            "tags": [],
            "needs_background": "light"
          }
        },
        {
          "output_type": "stream",
          "text": [
            "Route_4\n"
          ],
          "name": "stdout"
        },
        {
          "output_type": "display_data",
          "data": {
            "image/png": "[encoded data removed]",
            "text/plain": [
              "<Figure size 1080x216 with 3 Axes>"
            ]
          },
          "metadata": {
            "tags": [],
            "needs_background": "light"
          }
        },
        {
          "output_type": "stream",
          "text": [
            "Route_5\n"
          ],
          "name": "stdout"
        },
        {
          "output_type": "display_data",
          "data": {
            "image/png": "[encoded data removed]",
            "text/plain": [
              "<Figure size 1080x216 with 3 Axes>"
            ]
          },
          "metadata": {
            "tags": [],
            "needs_background": "light"
          }
        },
        {
          "output_type": "stream",
          "text": [
            "Arrival_hour\n"
          ],
          "name": "stdout"
        },
        {
          "output_type": "display_data",
          "data": {
            "image/png": "[encoded data removed]",
            "text/plain": [
              "<Figure size 1080x216 with 3 Axes>"
            ]
          },
          "metadata": {
            "tags": [],
            "needs_background": "light"
          }
        },
        {
          "output_type": "stream",
          "text": [
            "Arrival_min\n"
          ],
          "name": "stdout"
        },
        {
          "output_type": "display_data",
          "data": {
            "image/png": "[encoded data removed]",
            "text/plain": [
              "<Figure size 1080x216 with 3 Axes>"
            ]
          },
          "metadata": {
            "tags": [],
            "needs_background": "light"
          }
        },
        {
          "output_type": "stream",
          "text": [
            "Dep_hour\n"
          ],
          "name": "stdout"
        },
        {
          "output_type": "display_data",
          "data": {
            "image/png": "[encoded data removed]",
            "text/plain": [
              "<Figure size 1080x216 with 3 Axes>"
            ]
          },
          "metadata": {
            "tags": [],
            "needs_background": "light"
          }
        },
        {
          "output_type": "stream",
          "text": [
            "Dep_min\n"
          ],
          "name": "stdout"
        },
        {
          "output_type": "display_data",
          "data": {
            "image/png": "[encoded data removed]",
            "text/plain": [
              "<Figure size 1080x216 with 3 Axes>"
            ]
          },
          "metadata": {
            "tags": [],
            "needs_background": "light"
          }
        },
        {
          "output_type": "stream",
          "text": [
            "Duration_mins\n"
          ],
          "name": "stdout"
        },
        {
          "output_type": "display_data",
          "data": {
            "image/png": "[encoded data removed]",
            "text/plain": [
              "<Figure size 1080x216 with 3 Axes>"
            ]
          },
          "metadata": {
            "tags": [],
            "needs_background": "light"
          }
        },
        {
          "output_type": "stream",
          "text": [
            "Dep_Part_of_day\n"
          ],
          "name": "stdout"
        },
        {
          "output_type": "display_data",
          "data": {
            "image/png": "[encoded data removed]",
            "text/plain": [
              "<Figure size 1080x216 with 3 Axes>"
            ]
          },
          "metadata": {
            "tags": [],
            "needs_background": "light"
          }
        },
        {
          "output_type": "stream",
          "text": [
            "Arrival_Part_of_day\n"
          ],
          "name": "stdout"
        },
        {
          "output_type": "display_data",
          "data": {
            "image/png": "[encoded data removed]",
            "text/plain": [
              "<Figure size 1080x216 with 3 Axes>"
            ]
          },
          "metadata": {
            "tags": [],
            "needs_background": "light"
          }
        }
      ]
    },
    {
      "cell_type": "code",
      "metadata": {
        "id": "GKHjcVZkZtwD"
      },
      "source": [
        "from sklearn.preprocessing import StandardScaler\n",
        "std = StandardScaler()\n",
        "X_train['Duration_mins'] = std.fit_transform(X_train[['Duration_mins']])"
      ],
      "execution_count": 522,
      "outputs": []
    },
    {
      "cell_type": "markdown",
      "metadata": {
        "id": "6gXOB1KsaRm_"
      },
      "source": [
        "# **Model Implementation**"
      ]
    },
    {
      "cell_type": "code",
      "metadata": {
        "id": "hxqSIzBfZt4-"
      },
      "source": [
        "from sklearn.ensemble import RandomForestRegressor\n",
        "rf = RandomForestRegressor()"
      ],
      "execution_count": 525,
      "outputs": []
    },
    {
      "cell_type": "code",
      "metadata": {
        "id": "n_GK00lmZt8f"
      },
      "source": [
        "from sklearn.model_selection import RandomizedSearchCV\n",
        "#Randomized Search CV\n",
        "\n",
        "# Number of trees in random forest\n",
        "n_estimators = [int(x) for x in np.linspace(start = 100, stop = 1200, num = 12)]\n",
        "# Number of features to consider at every split\n",
        "max_features = ['auto', 'sqrt']\n",
        "# Maximum number of levels in tree\n",
        "max_depth = [int(x) for x in np.linspace(5, 30, num = 6)]\n",
        "# max_depth.append(None)\n",
        "# Minimum number of samples required to split a node\n",
        "min_samples_split = [2, 5, 10, 15, 100]\n",
        "# Minimum number of samples required at each leaf node\n",
        "min_samples_leaf = [1, 2, 5, 10]"
      ],
      "execution_count": 526,
      "outputs": []
    },
    {
      "cell_type": "code",
      "metadata": {
        "colab": {
          "base_uri": "https://localhost:8080/"
        },
        "id": "zl5ZjpkGadRb",
        "outputId": "dbbda28c-0dcc-455e-9746-fd41e3bc6fe0"
      },
      "source": [
        "random_grid = {'n_estimators': n_estimators,\n",
        "               'max_features': max_features,\n",
        "               'max_depth': max_depth,\n",
        "               'min_samples_split': min_samples_split,\n",
        "               'min_samples_leaf': min_samples_leaf}\n",
        "\n",
        "print(random_grid)"
      ],
      "execution_count": 527,
      "outputs": [
        {
          "output_type": "stream",
          "text": [
            "{'n_estimators': [100, 200, 300, 400, 500, 600, 700, 800, 900, 1000, 1100, 1200], 'max_features': ['auto', 'sqrt'], 'max_depth': [5, 10, 15, 20, 25, 30], 'min_samples_split': [2, 5, 10, 15, 100], 'min_samples_leaf': [1, 2, 5, 10]}\n"
          ],
          "name": "stdout"
        }
      ]
    },
    {
      "cell_type": "code",
      "metadata": {
        "id": "hWPqOygEagMz"
      },
      "source": [
        "rf_random = RandomizedSearchCV(estimator = rf, param_distributions = random_grid,scoring='neg_mean_squared_error', n_iter = 50, cv = 5, verbose=2, random_state=42, n_jobs = 1)"
      ],
      "execution_count": 528,
      "outputs": []
    },
    {
      "cell_type": "code",
      "metadata": {
        "colab": {
          "base_uri": "https://localhost:8080/"
        },
        "id": "JorzCjT1aiKv",
        "outputId": "2e207737-7774-45b0-bb21-ae2756852678"
      },
      "source": [
        "rf_random.fit(X_train,y_train)"
      ],
      "execution_count": null,
      "outputs": [
        {
          "output_type": "stream",
          "text": [
            "[CV]  n_estimators=1100, min_samples_split=5, min_samples_leaf=2, max_features=auto, max_depth=25, total=  25.8s\n",
            "[CV] n_estimators=1100, min_samples_split=5, min_samples_leaf=2, max_features=auto, max_depth=25 \n",
            "[CV]  n_estimators=1100, min_samples_split=5, min_samples_leaf=2, max_features=auto, max_depth=25, total=  25.8s\n",
            "[CV] n_estimators=1100, min_samples_split=5, min_samples_leaf=2, max_features=auto, max_depth=25 \n"
          ],
          "name": "stdout"
        }
      ]
    },
    {
      "cell_type": "code",
      "metadata": {
        "id": "DxFCEHkFanKA"
      },
      "source": [
        "y_pred=rf_random.predict(X_test)"
      ],
      "execution_count": null,
      "outputs": []
    },
    {
      "cell_type": "code",
      "metadata": {
        "id": "86QmB961aopn"
      },
      "source": [
        "import seaborn as sns\n",
        "sns.distplot(y_test-y_pred)"
      ],
      "execution_count": null,
      "outputs": []
    },
    {
      "cell_type": "code",
      "metadata": {
        "id": "gNDtSc3SavH7"
      },
      "source": [
        "from sklearn import metrics\n",
        "print('MAE:', metrics.mean_absolute_error(y_test, prediction))\n",
        "print('MSE:', metrics.mean_squared_error(y_test, prediction)) \n",
        "print('RMSE:', np.sqrt(metrics.mean_squared_error(y_test, prediction))) "
      ],
      "execution_count": null,
      "outputs": []
    },
    {
      "cell_type": "code",
      "metadata": {
        "id": "2RTbcrWSbFKr"
      },
      "source": [
        "r2score     = r2_score(y_test,prediction) \n",
        "1 - (1-rf_random.score(X_test, y_test))*(len(y_test)-1)/(len(y_test)-X_test.shape[1]-1)"
      ],
      "execution_count": null,
      "outputs": []
    }
  ]
}